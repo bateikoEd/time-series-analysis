{
 "cells": [
  {
   "cell_type": "code",
   "execution_count": 1,
   "metadata": {},
   "outputs": [],
   "source": [
    "import numpy as np\n",
    "import pandas as pd\n",
    "import re\n",
    "from prettytable import PrettyTable\n",
    "from matplotlib import pyplot as plt\n",
    "from scipy.stats import chi2, t, f\n",
    "from math import pi\n",
    "%matplotlib inline"
   ]
  },
  {
   "cell_type": "code",
   "execution_count": 2,
   "metadata": {},
   "outputs": [],
   "source": [
    "def DW(res):\n",
    "    return np.sum((res[1:] - res[:-1])**2) / np.sum(res**2)"
   ]
  },
  {
   "cell_type": "code",
   "execution_count": 73,
   "metadata": {},
   "outputs": [],
   "source": [
    "data = open('rts2.txt', 'r').read()\n",
    "data = np.array(list(map(float, re.findall(r\"[-+]?\\d*\\.\\d+|\\d+\", data))))"
   ]
  },
  {
   "cell_type": "code",
   "execution_count": 4,
   "metadata": {},
   "outputs": [],
   "source": [
    "def describe(data, name=\"-\"):\n",
    "    t = PrettyTable()\n",
    "    t.field_names = [\"Field\", \"Value\"]\n",
    "    t.add_row([\"Dataset name\", name])\n",
    "    N = len(data)\n",
    "    t.add_row([\"Observations\", N])\n",
    "    m = data.mean()\n",
    "    s = data.std()\n",
    "    S = (((data - m) / s) ** 3).mean()\n",
    "    K = (((data - m) / s) ** 4).mean()\n",
    "    JB = N * (S*S / 6 + (K - 3)**2/24)\n",
    "    t.add_row([\"Mean\", m])\n",
    "    t.add_row([\"Median\", np.median(data)])\n",
    "    t.add_row([\"Maximum\", data.max()])\n",
    "    t.add_row([\"Minimum\", data.min()])\n",
    "    t.add_row([\"Std. Dev.\", s])\n",
    "    t.add_row([\"Skewness\", S])\n",
    "    t.add_row([\"Kurtosis\", K])\n",
    "    t.add_row([\"Jarque-Bera\", JB])\n",
    "    t.add_row([\"Probability\", chi2.sf(JB, 2)])\n",
    "    print(t)"
   ]
  },
  {
   "cell_type": "code",
   "execution_count": 5,
   "metadata": {
    "scrolled": true
   },
   "outputs": [
    {
     "data": {
      "text/plain": [
       "(array([ 4.,  0.,  1.,  2.,  1.,  0.,  2.,  1.,  1.,  3.,  4.,  0.,  1.,\n",
       "         4.,  4.,  3.,  2.,  1.,  1.,  4.,  2.,  1.,  2.,  7., 26., 24.,\n",
       "        21., 22., 24., 10.]),\n",
       " array([1441.95      , 1482.90533333, 1523.86066667, 1564.816     ,\n",
       "        1605.77133333, 1646.72666667, 1687.682     , 1728.63733333,\n",
       "        1769.59266667, 1810.548     , 1851.50333333, 1892.45866667,\n",
       "        1933.414     , 1974.36933333, 2015.32466667, 2056.28      ,\n",
       "        2097.23533333, 2138.19066667, 2179.146     , 2220.10133333,\n",
       "        2261.05666667, 2302.012     , 2342.96733333, 2383.92266667,\n",
       "        2424.878     , 2465.83333333, 2506.78866667, 2547.744     ,\n",
       "        2588.69933333, 2629.65466667, 2670.61      ]),\n",
       " <a list of 30 Patch objects>)"
      ]
     },
     "execution_count": 5,
     "metadata": {},
     "output_type": "execute_result"
    },
    {
     "data": {
      "image/png": "[encoded data removed]",
      "text/plain": [
       "<Figure size 432x288 with 1 Axes>"
      ]
     },
     "metadata": {
      "needs_background": "light"
     },
     "output_type": "display_data"
    }
   ],
   "source": [
    "plt.hist(data, bins=30)"
   ]
  },
  {
   "cell_type": "code",
   "execution_count": 6,
   "metadata": {
    "scrolled": true
   },
   "outputs": [
    {
     "name": "stdout",
     "output_type": "stream",
     "text": [
      "+--------------+-----------------------+\n",
      "|    Field     |         Value         |\n",
      "+--------------+-----------------------+\n",
      "| Dataset name |           -           |\n",
      "| Observations |          178          |\n",
      "|     Mean     |   2383.844325842697   |\n",
      "|    Median    |        2483.955       |\n",
      "|   Maximum    |        2670.61        |\n",
      "|   Minimum    |        1441.95        |\n",
      "|  Std. Dev.   |   289.4910699654033   |\n",
      "|   Skewness   |  -1.7010229235900562  |\n",
      "|   Kurtosis   |    4.9966130843998    |\n",
      "| Jarque-Bera  |   115.4061498504135   |\n",
      "| Probability  | 8.707088749091896e-26 |\n",
      "+--------------+-----------------------+\n"
     ]
    }
   ],
   "source": [
    "describe(data)"
   ]
  },
  {
   "cell_type": "code",
   "execution_count": 48,
   "metadata": {},
   "outputs": [],
   "source": [
    "def describe_coefs(X, y, pred, coef, p, q):\n",
    "    table = PrettyTable()\n",
    "    N, k = X.shape\n",
    "    res = y - pred\n",
    "    RSS = res.T @ res\n",
    "    sigma = RSS / (N - k)\n",
    "    corr = np.linalg.inv(X.T @ X) * sigma\n",
    "    corr = corr ** 0.5\n",
    "    table.field_names = [\"Variable\", \"Coefficient\", \"Std. Error\", \"t-Statistic\", \"Prob.\"]\n",
    "    table.add_row([\"Intercept\", round(coef[0],5), round(corr[0][0],5),\n",
    "                   round(coef[0] / corr[0][0],5), round(t.sf(abs(coef[0]) / corr[0][0], N-k),5)])\n",
    "    for i in range(1, p + 1):\n",
    "        err = corr[i][i]\n",
    "        table.add_row([\"a\" + str(i), round(coef[i],5), round(err,5), round(coef[i] / err,5),\n",
    "                       round(t.sf(abs(coef[i]) / err, N-k),5)])\n",
    "    for i in range(p + 1, p + q + 1):\n",
    "        err = corr[i][i]\n",
    "        table.add_row([\"b\" + str(i - p), round(coef[i],5), round(err,5), round(coef[i] / err, 5)\n",
    "                       , round(t.sf(abs(coef[i]) / err, N-k),5)])\n",
    "    print(table)"
   ]
  },
  {
   "cell_type": "code",
   "execution_count": 8,
   "metadata": {},
   "outputs": [],
   "source": [
    "def r2(y,y_pred): \n",
    "    return 1 - np.sum((y - y_pred)**2) / np.sum((y - np.mean(y))**2)"
   ]
  },
  {
   "cell_type": "code",
   "execution_count": 9,
   "metadata": {},
   "outputs": [],
   "source": [
    "def adj_r2(r2, N, k):\n",
    "    return 1 - (1 - r2) * (N - 1) / (N - k - 1)"
   ]
  },
  {
   "cell_type": "code",
   "execution_count": 10,
   "metadata": {},
   "outputs": [],
   "source": [
    "def se(y, pred):\n",
    "    return ((y - pred) ** 2).mean()"
   ]
  },
  {
   "cell_type": "code",
   "execution_count": 11,
   "metadata": {},
   "outputs": [],
   "source": [
    "def rss(y, pred):\n",
    "    return ((y - pred) ** 2).sum()"
   ]
  },
  {
   "cell_type": "code",
   "execution_count": 12,
   "metadata": {},
   "outputs": [],
   "source": [
    "def llh(y, pred):\n",
    "    N = len(y)\n",
    "    resid = (y - pred)\n",
    "    return - N / 2 * (1 + np.log(2*pi) + np.log((resid.T @ resid) / N))"
   ]
  },
  {
   "cell_type": "code",
   "execution_count": 13,
   "metadata": {},
   "outputs": [],
   "source": [
    "def aic(l, N, k):\n",
    "    return 2 / N * (k - l)"
   ]
  },
  {
   "cell_type": "code",
   "execution_count": 14,
   "metadata": {},
   "outputs": [],
   "source": [
    "def schwarz(l, N, k):\n",
    "    return (k * np.log(N) - 2 * l) / N"
   ]
  },
  {
   "cell_type": "code",
   "execution_count": 15,
   "metadata": {},
   "outputs": [],
   "source": [
    "def F(r2_, N, k):\n",
    "    return r2_ / (k - 1) / (1 - r2_) * (N - k)"
   ]
  },
  {
   "cell_type": "code",
   "execution_count": 16,
   "metadata": {},
   "outputs": [],
   "source": [
    "def describe_model(y, pred, N, k):\n",
    "    t = PrettyTable()\n",
    "    t.field_names = [\"Name\", \"Value\"]\n",
    "    r2_ = r2(y, pred)\n",
    "    t.add_row([\"R-squared\", r2_])\n",
    "    t.add_row([\"Adjusted R-squared\", adj_r2(r2_, N, k)])\n",
    "    t.add_row([\"S.E. of regression\", se(y, pred)])\n",
    "    t.add_row([\"Sum squared resid\", rss(y, pred)])\n",
    "    l = llh(y, pred)\n",
    "    t.add_row([\"Log likelihood\", l])\n",
    "    t.add_row([\"Durbin-Watson stat\", DW(y - pred)])\n",
    "    t.add_row([\"Mean dependent var\", pred.mean()])\n",
    "    t.add_row([\"S.D. dependent var\", pred.std()])\n",
    "    t.add_row([\"Akaike info criterion\", aic(l, N, k)])\n",
    "    t.add_row([\"Schwarz criterion\", schwarz(l, N, k)])\n",
    "    F_ = F(r2_, N, k)\n",
    "    t.add_row([\"F-statistic\", F_])\n",
    "    t.add_row([\"Prob(F-statistic)\", f.sf(F_, k - 1, N - k)])\n",
    "    print(t)"
   ]
  },
  {
   "cell_type": "code",
   "execution_count": 78,
   "metadata": {},
   "outputs": [],
   "source": [
    "def calc_corr(y, s = 12):\n",
    "    t = PrettyTable()\n",
    "    t.field_names = [\"#\", \"AC\", \"PAC\"]\n",
    "    m = y.mean()\n",
    "    var = np.sum((y - y.mean()) ** 2)\n",
    "    N = len(y)\n",
    "    r = [0]\n",
    "    for i in range(1, s + 1):\n",
    "        r.append(np.sum((y[i:] - m) * (y[:-i] - m)) / var)\n",
    "    F = [[], [0, r[1]]]\n",
    "    for k in range(1, s + 1):\n",
    "        F.append([0])\n",
    "        temp = r[k]\n",
    "        for j in range(1, k):\n",
    "            temp -= F[k - 1][j] * r[k - j]\n",
    "        F_k = temp\n",
    "        temp = 1\n",
    "        for j in range(1, k):\n",
    "            temp -= F[k - 1][j] * r[j]\n",
    "        F_k /= temp\n",
    "        for j in range(1, k):\n",
    "            F[k].append(F[k - 1][j] - F_k * F[k - 1][k - j])\n",
    "        F[k].append(F_k)\n",
    "    for i in range(1, s + 1):\n",
    "        t.add_row([i, r[i], F[i][i]])\n",
    "    print(t)"
   ]
  },
  {
   "cell_type": "code",
   "execution_count": 18,
   "metadata": {},
   "outputs": [],
   "source": [
    "def LS(X, y): \n",
    "    return list(np.dot(np.dot(np.linalg.inv(np.dot(X.T,X)), X.T), y))"
   ]
  },
  {
   "cell_type": "code",
   "execution_count": 19,
   "metadata": {},
   "outputs": [],
   "source": [
    "def movav(y, N):\n",
    "    movav = [0 for x in range(N - 1)]\n",
    "    for i in range(N - 1, len(y)):\n",
    "        movav.append(y[i - (N - 1):i + 1].mean())\n",
    "        #print(y[i - (N - 1):i + 1].mean())\n",
    "        #print(movav[-1])\n",
    "    return np.array(movav)"
   ]
  },
  {
   "cell_type": "code",
   "execution_count": 20,
   "metadata": {},
   "outputs": [],
   "source": [
    "def movav_exp(y, N):\n",
    "    movav = [0 for x in range(N - 1)]\n",
    "    alpha = 2 / (N + 1)\n",
    "    for i in range(N - 1, len(y)):\n",
    "        temp = 0\n",
    "        for j in range(N):\n",
    "            temp += y[i - j] * (1 - alpha) ** (j + 1)\n",
    "            #print(temp)\n",
    "        movav.append(temp)\n",
    "        #print(\"=\",movav[-1])\n",
    "    return np.array(movav)"
   ]
  },
  {
   "cell_type": "code",
   "execution_count": 21,
   "metadata": {},
   "outputs": [],
   "source": [
    "def build_auto(y, movav, N, p, q):\n",
    "    L = len(y)\n",
    "    n = max(p, q+N-1)\n",
    "    X = [np.ones(L - n)]\n",
    "    for i in range(1, p + 1):\n",
    "        X.append(y[n - i:L-i])\n",
    "    for i in range(1, q + 1):\n",
    "        X.append(movav[n - i:L - i])\n",
    "    y1 = (y - movav)[n:]\n",
    "    coefs = LS(np.array(X).T, y1)\n",
    "    X.append(movav[n:])\n",
    "    coefs.append(1)\n",
    "    return np.array(X).T, y[n:], np.array(coefs)"
   ]
  },
  {
   "cell_type": "code",
   "execution_count": 22,
   "metadata": {},
   "outputs": [],
   "source": [
    "def build_own(y, movav, N, p, q):\n",
    "    alpha = 2 / (q + 1)\n",
    "    b = np.array([(1 - alpha) ** j for j in range(1, q + 1)])\n",
    "    b = b/np.sum(b) if q > 1 else b\n",
    "    L = len(y)\n",
    "    n = max(p, q+N-1)\n",
    "    X = [np.ones(L - n)]\n",
    "    y1 = (y - movav)[n:]\n",
    "    for i in range(1, p + 1):\n",
    "        X.append(y[n - i:L-i])\n",
    "    for i in range(1, q + 1):\n",
    "        y1 -= b[i - 1] *movav[n - i:L - i]\n",
    "    X = np.array(X).T\n",
    "    return X, y1, LS(X, y1)"
   ]
  },
  {
   "cell_type": "code",
   "execution_count": 23,
   "metadata": {},
   "outputs": [],
   "source": [
    "def print_char(y, pred, k):\n",
    "    t = PrettyTable()\n",
    "    t.field_names = [\"Name\", \"Value\"]\n",
    "    t.add_row([\"R-squared\", r2(y, pred)])\n",
    "    t.add_row([\"Sum squared resid\", rss(y, pred)])\n",
    "    t.add_row([\"Akaike\", aic(llh(y, pred), len(y), k)])\n",
    "    t.add_row([\"Durbin-Watson stat\", DW(y - pred)])\n",
    "    print(t)"
   ]
  },
  {
   "cell_type": "code",
   "execution_count": 24,
   "metadata": {},
   "outputs": [
    {
     "data": {
      "text/plain": [
       "(array([ 4.,  0.,  1.,  2.,  1.,  0.,  2.,  1.,  1.,  3.,  4.,  0.,  1.,\n",
       "         4.,  4.,  3.,  2.,  1.,  1.,  4.,  2.,  1.,  2.,  7., 26., 24.,\n",
       "        21., 22., 24., 10.]),\n",
       " array([1441.95      , 1482.90533333, 1523.86066667, 1564.816     ,\n",
       "        1605.77133333, 1646.72666667, 1687.682     , 1728.63733333,\n",
       "        1769.59266667, 1810.548     , 1851.50333333, 1892.45866667,\n",
       "        1933.414     , 1974.36933333, 2015.32466667, 2056.28      ,\n",
       "        2097.23533333, 2138.19066667, 2179.146     , 2220.10133333,\n",
       "        2261.05666667, 2302.012     , 2342.96733333, 2383.92266667,\n",
       "        2424.878     , 2465.83333333, 2506.78866667, 2547.744     ,\n",
       "        2588.69933333, 2629.65466667, 2670.61      ]),\n",
       " <a list of 30 Patch objects>)"
      ]
     },
     "execution_count": 24,
     "metadata": {},
     "output_type": "execute_result"
    },
    {
     "data": {
      "image/png": "[encoded data removed]",
      "text/plain": [
       "<Figure size 432x288 with 1 Axes>"
      ]
     },
     "metadata": {
      "needs_background": "light"
     },
     "output_type": "display_data"
    }
   ],
   "source": [
    "plt.hist(data, bins = 30)"
   ]
  },
  {
   "cell_type": "code",
   "execution_count": 25,
   "metadata": {},
   "outputs": [
    {
     "name": "stdout",
     "output_type": "stream",
     "text": [
      "+--------------+-----------------------+\n",
      "|    Field     |         Value         |\n",
      "+--------------+-----------------------+\n",
      "| Dataset name |        rts2.txt       |\n",
      "| Observations |          178          |\n",
      "|     Mean     |   2383.844325842697   |\n",
      "|    Median    |        2483.955       |\n",
      "|   Maximum    |        2670.61        |\n",
      "|   Minimum    |        1441.95        |\n",
      "|  Std. Dev.   |   289.4910699654033   |\n",
      "|   Skewness   |  -1.7010229235900562  |\n",
      "|   Kurtosis   |    4.9966130843998    |\n",
      "| Jarque-Bera  |   115.4061498504135   |\n",
      "| Probability  | 8.707088749091896e-26 |\n",
      "+--------------+-----------------------+\n"
     ]
    }
   ],
   "source": [
    "describe(data, \"rts2.txt\")"
   ]
  },
  {
   "cell_type": "code",
   "execution_count": 79,
   "metadata": {},
   "outputs": [
    {
     "name": "stdout",
     "output_type": "stream",
     "text": [
      "+----+--------------------+-----------------------+\n",
      "| #  |         AC         |          PAC          |\n",
      "+----+--------------------+-----------------------+\n",
      "| 1  | 0.9665656443133314 |   0.9665656443133314  |\n",
      "| 2  | 0.9284375784580158 |  -0.08838769150943546 |\n",
      "| 3  | 0.8888876263279988 | -0.036704264865053106 |\n",
      "| 4  | 0.8500021586397086 | -0.008170501695976464 |\n",
      "| 5  | 0.8138071340576104 |  0.019095860216682223 |\n",
      "| 6  | 0.7784808603577844 | -0.012492671038138413 |\n",
      "| 7  | 0.7426370692892226 | -0.030734065964901365 |\n",
      "| 8  | 0.7074626688944252 | -0.008734902978573465 |\n",
      "| 9  | 0.6772278167032693 |  0.05595312321822202  |\n",
      "| 10 | 0.6501410220270479 |  0.02021084863904506  |\n",
      "| 11 | 0.6226977319416506 |  -0.03202886981723008 |\n",
      "| 12 | 0.5979066831919401 |  0.024625318586933755 |\n",
      "+----+--------------------+-----------------------+\n"
     ]
    }
   ],
   "source": [
    "calc_corr(data)"
   ]
  },
  {
   "cell_type": "code",
   "execution_count": 27,
   "metadata": {},
   "outputs": [],
   "source": [
    "y =data"
   ]
  },
  {
   "cell_type": "code",
   "execution_count": 28,
   "metadata": {},
   "outputs": [],
   "source": [
    "N = len(y)"
   ]
  },
  {
   "cell_type": "code",
   "execution_count": 29,
   "metadata": {},
   "outputs": [],
   "source": [
    "X = np.array([np.ones(N - 1), y[:-1]]).T\n",
    "y = y[1:]"
   ]
  },
  {
   "cell_type": "code",
   "execution_count": 30,
   "metadata": {},
   "outputs": [],
   "source": [
    "coefs = LS(X, y)"
   ]
  },
  {
   "cell_type": "code",
   "execution_count": 31,
   "metadata": {},
   "outputs": [
    {
     "data": {
      "text/plain": [
       "[-64.05181011200318, 1.024067169513107]"
      ]
     },
     "execution_count": 31,
     "metadata": {},
     "output_type": "execute_result"
    }
   ],
   "source": [
    "coefs"
   ]
  },
  {
   "cell_type": "code",
   "execution_count": 32,
   "metadata": {},
   "outputs": [],
   "source": [
    "pred = X @ coefs"
   ]
  },
  {
   "cell_type": "code",
   "execution_count": 33,
   "metadata": {},
   "outputs": [],
   "source": [
    "res = y - pred"
   ]
  },
  {
   "cell_type": "code",
   "execution_count": 37,
   "metadata": {},
   "outputs": [
    {
     "ename": "NameError",
     "evalue": "name 'p' is not defined",
     "output_type": "error",
     "traceback": [
      "\u001b[0;31m---------------------------------------------------------------------------\u001b[0m",
      "\u001b[0;31mNameError\u001b[0m                                 Traceback (most recent call last)",
      "\u001b[0;32m<ipython-input-37-01cd9b16caf1>\u001b[0m in \u001b[0;36m<module>\u001b[0;34m\u001b[0m\n\u001b[0;32m----> 1\u001b[0;31m \u001b[0mprint_coefs\u001b[0m\u001b[0;34m(\u001b[0m\u001b[0mcoefs\u001b[0m\u001b[0;34m,\u001b[0m \u001b[0mp\u001b[0m\u001b[0;34m,\u001b[0m \u001b[0;36m0\u001b[0m\u001b[0;34m)\u001b[0m\u001b[0;34m\u001b[0m\u001b[0;34m\u001b[0m\u001b[0m\n\u001b[0m\u001b[1;32m      2\u001b[0m \u001b[0mprint_char\u001b[0m\u001b[0;34m(\u001b[0m\u001b[0my\u001b[0m\u001b[0;34m,\u001b[0m \u001b[0mX\u001b[0m \u001b[0;34m@\u001b[0m \u001b[0mcoefs\u001b[0m\u001b[0;34m,\u001b[0m \u001b[0mp\u001b[0m \u001b[0;34m+\u001b[0m \u001b[0;36m0\u001b[0m \u001b[0;34m+\u001b[0m \u001b[0;36m1\u001b[0m\u001b[0;34m)\u001b[0m\u001b[0;34m\u001b[0m\u001b[0;34m\u001b[0m\u001b[0m\n",
      "\u001b[0;31mNameError\u001b[0m: name 'p' is not defined"
     ]
    }
   ],
   "source": [
    "print_coefs(coefs, p, 0)\n",
    "print_char(y, X @ coefs, p + 0 + 1)"
   ]
  },
  {
   "cell_type": "code",
   "execution_count": 76,
   "metadata": {},
   "outputs": [
    {
     "name": "stdout",
     "output_type": "stream",
     "text": [
      "+----+------------------------+-----------------------+\n",
      "| #  |           AC           |          PAC          |\n",
      "+----+------------------------+-----------------------+\n",
      "| 1  |  0.24959866204144618   |  0.24959866204144618  |\n",
      "| 2  | -0.008824305185064302  |  -0.0758491615160661  |\n",
      "| 3  | -0.0011461188067671386 |  0.021618791830574812 |\n",
      "| 4  |  0.08909562385238053   |  0.08937802189361575  |\n",
      "| 5  |  0.11729818375373832   |  0.07678622985474914  |\n",
      "| 6  |  -0.04975419617074549  |  -0.10050392711344083 |\n",
      "| 7  |  0.04242712798961295   |  0.09833788404087979  |\n",
      "| 8  |  0.07241814770542382   |  0.02892186588238924  |\n",
      "| 9  |  -0.10075703478159924  |  -0.15686342851086219 |\n",
      "| 10 |  -0.07214407285094972  | 0.0027717513730221776 |\n",
      "| 11 |  0.17107540683327696   |  0.22274863735009284  |\n",
      "| 12 |  0.08120578265860558   |  -0.07349016316912024 |\n",
      "+----+------------------------+-----------------------+\n"
     ]
    }
   ],
   "source": [
    "calc_corr(res)"
   ]
  },
  {
   "cell_type": "code",
   "execution_count": 35,
   "metadata": {},
   "outputs": [],
   "source": [
    "def print_coefs(coefs, p, q):\n",
    "    t = PrettyTable()\n",
    "    t.field_names = [\"coef\", \"Value\"]\n",
    "    t.add_row([\"a0\", coefs[0]])\n",
    "    equation = \"y(k) = \" + str(round(coefs[0],2))\n",
    "    for i in range(p):\n",
    "        t.add_row([\"a\" + str(i + 1), coefs[i + 1]])\n",
    "        sign = \" + \" if (coefs[i + 1] >= 0) else \" - \"\n",
    "        equation += sign + str(abs(round(coefs[i + 1], 2))) + \"*y(k - \" + str(i + 1) + \")\"\n",
    "    equation += \" + ma(k)\"\n",
    "    for i in range(q):\n",
    "        t.add_row([\"b\" + str(i + 1), coefs[i + p + 1]])\n",
    "        sign = \" + \" if (coefs[i + p + 1] >= 0) else \" - \"\n",
    "        equation += sign + str(abs(round(coefs[i + p + 1], 2))) + \"*ma(k - \" + str(i + 1) + \")\"\n",
    "    print(t)\n",
    "    print(equation)"
   ]
  },
  {
   "cell_type": "code",
   "execution_count": 36,
   "metadata": {},
   "outputs": [],
   "source": [
    "def print_coefs_own(coefs, p, q):\n",
    "    t = PrettyTable()\n",
    "    t.field_names = [\"coef\", \"Value\"]\n",
    "    t.add_row([\"a0\", coefs[0]])\n",
    "    equation = \"y(k) = \" + str(round(coefs[0],2))\n",
    "    for i in range(p):\n",
    "        t.add_row([\"a\" + str(i + 1), coefs[i + 1]])\n",
    "        sign = \" + \" if (coefs[i + 1] >= 0) else \" - \"\n",
    "        equation += sign + str(abs(round(coefs[i + 1], 2))) + \"*y(k - \" + str(i + 1) + \")\"\n",
    "    equation += \" + ma(k)\"\n",
    "    alpha = 2 / (1 + q)\n",
    "    b = np.array([(1 - alpha) ** j for j in range(1, q + 1)])\n",
    "    b /= np.sum(b)\n",
    "    for i in range(q):\n",
    "        t.add_row([\"b\" + str(i + 1), b[i]])\n",
    "        sign = \" + \" if (b[i] >= 0) else \" - \"\n",
    "        equation += sign + str(abs(round(b[i],2))) + \"*ma(k - \" + str(i + 1) + \")\"\n",
    "    print(t)\n",
    "    print(equation)"
   ]
  },
  {
   "cell_type": "code",
   "execution_count": 39,
   "metadata": {},
   "outputs": [
    {
     "name": "stdout",
     "output_type": "stream",
     "text": [
      "+------+----------------------+\n",
      "| coef |        Value         |\n",
      "+------+----------------------+\n",
      "|  a0  |  -56.73372329164147  |\n",
      "|  a1  |  1.021232729484551   |\n",
      "|  b1  | 0.019804517927956677 |\n",
      "|  b2  |  -1.016738688588105  |\n",
      "|  b3  | 0.056943789449351634 |\n",
      "|  b4  |  0.535422437046269   |\n",
      "+------+----------------------+\n",
      "y(k) = -56.73 + 1.02*y(k - 1) + ma(k) + 0.02*ma(k - 1) - 1.02*ma(k - 2) + 0.06*ma(k - 3) + 0.54*ma(k - 4)\n",
      "+--------------------+--------------------+\n",
      "|        Name        |       Value        |\n",
      "+--------------------+--------------------+\n",
      "|     R-squared      | 0.9966580878775428 |\n",
      "| Sum squared resid  | 48015.12711622641  |\n",
      "|       Akaike       | 8.558255657141999  |\n",
      "| Durbin-Watson stat | 1.919923184398006  |\n",
      "+--------------------+--------------------+\n"
     ]
    }
   ],
   "source": [
    "N = 5\n",
    "q = 4\n",
    "p = 1\n",
    "movav_ = movav(res, N)\n",
    "X_, y_, coefs = build_auto(y, movav_, N, p, q)\n",
    "print_coefs(coefs, p, q)\n",
    "print_char(y_, X_ @ coefs, p + q + 1)"
   ]
  },
  {
   "cell_type": "code",
   "execution_count": 40,
   "metadata": {},
   "outputs": [
    {
     "name": "stdout",
     "output_type": "stream",
     "text": [
      "+------+----------------------+\n",
      "| coef |        Value         |\n",
      "+------+----------------------+\n",
      "|  a0  |  -63.02674769936772  |\n",
      "|  a1  |  1.0239804734664144  |\n",
      "|  b1  | -0.8351530994086787  |\n",
      "|  b2  | -0.3588721622186597  |\n",
      "|  b3  |  0.6830511392748928  |\n",
      "|  b4  | -0.16934469985820577 |\n",
      "+------+----------------------+\n",
      "y(k) = -63.03 + 1.02*y(k - 1) + ma(k) - 0.84*ma(k - 1) - 0.36*ma(k - 2) + 0.68*ma(k - 3) - 0.17*ma(k - 4)\n",
      "+--------------------+--------------------+\n",
      "|        Name        |       Value        |\n",
      "+--------------------+--------------------+\n",
      "|     R-squared      | 0.9962996932840369 |\n",
      "| Sum squared resid  | 53077.26020809209  |\n",
      "|       Akaike       |  8.69068524113086  |\n",
      "| Durbin-Watson stat | 1.5965168117765012 |\n",
      "+--------------------+--------------------+\n"
     ]
    }
   ],
   "source": [
    "N = 10\n",
    "movav_ = movav(res, N)\n",
    "X_, y_, coefs = build_auto(y, movav_, N, p, q)\n",
    "print_coefs(coefs, p, q)\n",
    "print_char(y_, X_ @ coefs, p + q + 1)"
   ]
  },
  {
   "cell_type": "code",
   "execution_count": 41,
   "metadata": {},
   "outputs": [
    {
     "name": "stdout",
     "output_type": "stream",
     "text": [
      "+------+-----------------------+\n",
      "| coef |         Value         |\n",
      "+------+-----------------------+\n",
      "|  a0  |   -62.11456594997486  |\n",
      "|  a1  |   1.0233547676912158  |\n",
      "|  b1  |  -0.5181912272673728  |\n",
      "|  b2  |  -0.13886676191353875 |\n",
      "|  b3  | -0.014768908745465215 |\n",
      "|  b4  |   0.1324725413607395  |\n",
      "+------+-----------------------+\n",
      "y(k) = -62.11 + 1.02*y(k - 1) + ma(k) - 0.52*ma(k - 1) - 0.14*ma(k - 2) - 0.01*ma(k - 3) + 0.13*ma(k - 4)\n",
      "+--------------------+--------------------+\n",
      "|        Name        |       Value        |\n",
      "+--------------------+--------------------+\n",
      "|     R-squared      | 0.9994269871152607 |\n",
      "| Sum squared resid  | 8232.797719337625  |\n",
      "|       Akaike       | 6.7948654461464075 |\n",
      "| Durbin-Watson stat | 2.1625066407271745 |\n",
      "+--------------------+--------------------+\n"
     ]
    }
   ],
   "source": [
    "N = 5\n",
    "movav_ = movav_exp(res, N)\n",
    "X_, y_, coefs = build_auto(y, movav_, N, p, q)\n",
    "print_coefs(coefs, p, q)\n",
    "print_char(y_, X_ @ coefs, p + q+1)"
   ]
  },
  {
   "cell_type": "code",
   "execution_count": 42,
   "metadata": {},
   "outputs": [
    {
     "name": "stdout",
     "output_type": "stream",
     "text": [
      "+------+------------------------+\n",
      "| coef |         Value          |\n",
      "+------+------------------------+\n",
      "|  a0  |    -64.49569773734     |\n",
      "|  a1  |    1.0243066425578     |\n",
      "|  b1  |  -0.8118768625187087   |\n",
      "|  b2  | -0.0007462932007058498 |\n",
      "|  b3  |  0.008544467988472526  |\n",
      "|  b4  |  0.019436950680144616  |\n",
      "+------+------------------------+\n",
      "y(k) = -64.5 + 1.02*y(k - 1) + ma(k) - 0.81*ma(k - 1) - 0.0*ma(k - 2) + 0.01*ma(k - 3) + 0.02*ma(k - 4)\n",
      "+--------------------+--------------------+\n",
      "|        Name        |       Value        |\n",
      "+--------------------+--------------------+\n",
      "|     R-squared      | 0.9998125712127899 |\n",
      "| Sum squared resid  | 2688.481597030712  |\n",
      "|       Akaike       | 5.707913221449293  |\n",
      "| Durbin-Watson stat | 1.6345441159688272 |\n",
      "+--------------------+--------------------+\n"
     ]
    }
   ],
   "source": [
    "N = 10\n",
    "movav_ = movav_exp(res, N)\n",
    "X_, y_, coefs = build_auto(y, movav_, N, p, q)\n",
    "print_coefs(coefs, p, q)\n",
    "print_char(y_, X_ @ coefs, p + q + 1)"
   ]
  },
  {
   "cell_type": "code",
   "execution_count": 54,
   "metadata": {
    "scrolled": true
   },
   "outputs": [
    {
     "name": "stdout",
     "output_type": "stream",
     "text": [
      "+----+--------------------+-----------------------+\n",
      "| #  |         AC         |          PAC          |\n",
      "+----+--------------------+-----------------------+\n",
      "| 1  | 0.9680958773136839 |   0.9680958773136839  |\n",
      "| 2  | 0.934266214969866  |  -0.0468768155490143  |\n",
      "| 3  | 0.8986344690386644 | -0.045356934145069694 |\n",
      "| 4  | 0.861575613140944  |  -0.03999243249427611 |\n",
      "| 5  | 0.8232771695841989 | -0.037836271296654844 |\n",
      "| 6  | 0.7839052471793999 |   -0.036131008692409  |\n",
      "| 7  | 0.7438153167110932 |  -0.03144711493690663 |\n",
      "| 8  | 0.7032272790042772 |  -0.02901633938437511 |\n",
      "| 9  | 0.662013522998176  |  -0.03219767637949797 |\n",
      "| 10 | 0.6482113967044546 |   0.4183982131193352  |\n",
      "| 11 | 0.6345268286754527 |  -0.03788925861574155 |\n",
      "| 12 | 0.6212590893945531 | -0.029577304274927354 |\n",
      "+----+--------------------+-----------------------+\n"
     ]
    }
   ],
   "source": [
    "y = data\n",
    "N = 10\n",
    "movav_ = movav_exp(y, N)\n",
    "calc_corr(movav_)"
   ]
  },
  {
   "cell_type": "code",
   "execution_count": 55,
   "metadata": {},
   "outputs": [],
   "source": [
    "q = 10"
   ]
  },
  {
   "cell_type": "code",
   "execution_count": 56,
   "metadata": {},
   "outputs": [
    {
     "name": "stdout",
     "output_type": "stream",
     "text": [
      "+------+----------------------+\n",
      "| coef |        Value         |\n",
      "+------+----------------------+\n",
      "|  a0  |  1.4804984859746728  |\n",
      "|  a1  |   0.50380224549669   |\n",
      "|  b1  | -1.1940974130143562  |\n",
      "|  b2  | 0.29853830670931014  |\n",
      "|  b3  | -0.00695332725776332 |\n",
      "|  b4  | -0.02147658175097078 |\n",
      "|  b5  | 0.07494028430098609  |\n",
      "|  b6  | -0.05557880260588988 |\n",
      "|  b7  | 0.004923488842830892 |\n",
      "|  b8  | 0.027395525155075262 |\n",
      "|  b9  | 0.055345384319560154 |\n",
      "| b10  | -0.05655411378558606 |\n",
      "+------+----------------------+\n",
      "y(k) = 1.48 + 0.5*y(k - 1) + ma(k) - 1.19*ma(k - 1) + 0.3*ma(k - 2) - 0.01*ma(k - 3) - 0.02*ma(k - 4) + 0.07*ma(k - 5) - 0.06*ma(k - 6) + 0.0*ma(k - 7) + 0.03*ma(k - 8) + 0.06*ma(k - 9) - 0.06*ma(k - 10)\n",
      "+--------------------+--------------------+\n",
      "|        Name        |       Value        |\n",
      "+--------------------+--------------------+\n",
      "|     R-squared      | 0.9991095165645092 |\n",
      "| Sum squared resid  | 1590.156602910978  |\n",
      "|       Akaike       | 4.866175753366166  |\n",
      "| Durbin-Watson stat | 2.1133456875931897 |\n",
      "+--------------------+--------------------+\n"
     ]
    }
   ],
   "source": [
    "X_, y_, coefs = build_auto(y, movav_, N, p, q)\n",
    "print_coefs(coefs, p, q)\n",
    "print_char(y_, X_ @ coefs, q +p +1)"
   ]
  },
  {
   "cell_type": "code",
   "execution_count": 46,
   "metadata": {},
   "outputs": [
    {
     "name": "stdout",
     "output_type": "stream",
     "text": [
      "+------+----------------------+\n",
      "| coef |        Value         |\n",
      "+------+----------------------+\n",
      "|  a0  | -2720.1767340875385  |\n",
      "|  a1  |  -5.71963861776291   |\n",
      "|  b1  | 0.21005616499078725  |\n",
      "|  b2  | 0.17186413499246228  |\n",
      "|  b3  |  0.1406161104483782  |\n",
      "|  b4  | 0.11504954491230944  |\n",
      "|  b5  | 0.09413144583734408  |\n",
      "|  b6  | 0.07701663750328151  |\n",
      "|  b7  | 0.06301361250268488  |\n",
      "|  b8  | 0.051556592047651256 |\n",
      "|  b9  | 0.04218266622080557  |\n",
      "| b10  | 0.034513090544295466 |\n",
      "+------+----------------------+\n",
      "y(k) = -2720.18 - 5.72*y(k - 1) + ma(k) + 0.21*ma(k - 1) + 0.17*ma(k - 2) + 0.14*ma(k - 3) + 0.12*ma(k - 4) + 0.09*ma(k - 5) + 0.08*ma(k - 6) + 0.06*ma(k - 7) + 0.05*ma(k - 8) + 0.04*ma(k - 9) + 0.03*ma(k - 10)\n",
      "+--------------------+---------------------+\n",
      "|        Name        |        Value        |\n",
      "+--------------------+---------------------+\n",
      "|     R-squared      |  0.981462148804665  |\n",
      "| Sum squared resid  |  8355014.277171446  |\n",
      "|       Akaike       |  13.858288689243349 |\n",
      "| Durbin-Watson stat | 0.18923959590911613 |\n",
      "+--------------------+---------------------+\n"
     ]
    }
   ],
   "source": [
    "X_, y_, coefs = build_own(y, movav_, N, p, q)\n",
    "print_coefs_own(coefs, p, q)\n",
    "print_char(y_, X_ @ coefs, q + p + 1)"
   ]
  },
  {
   "cell_type": "code",
   "execution_count": 57,
   "metadata": {},
   "outputs": [
    {
     "name": "stdout",
     "output_type": "stream",
     "text": [
      "+-----------+-------------+------------+-------------+---------+\n",
      "|  Variable | Coefficient | Std. Error | t-Statistic |  Prob.  |\n",
      "+-----------+-------------+------------+-------------+---------+\n",
      "| Intercept |    1.4805   |  0.85427   |   1.73307   | 0.04225 |\n",
      "|     a1    |    0.5038   |  0.12068   |   4.17453   |  2e-05  |\n",
      "|     b1    |   -1.1941   |  0.15017   |   -7.95149  |   0.0   |\n",
      "|     b2    |   0.29854   |  0.12597   |   2.36996   | 0.00933 |\n",
      "|     b3    |   -0.00695  |  0.03935   |   -0.17672  | 0.42995 |\n",
      "|     b4    |   -0.02148  |  0.03946   |   -0.54428  |  0.2934 |\n",
      "|     b5    |   0.07494   |  0.04008   |   1.86983   | 0.03142 |\n",
      "|     b6    |   -0.05558  |  0.03952   |   -1.40646  |  0.0805 |\n",
      "|     b7    |   0.00492   |   0.0395   |   0.12466   | 0.45045 |\n",
      "|     b8    |    0.0274   |  0.03973   |   0.68949   | 0.24562 |\n",
      "|     b9    |   0.05535   |  0.03672   |   1.50722   |  0.0666 |\n",
      "|    b10    |   -0.05655  |  0.01701   |   -3.32481  | 0.00052 |\n",
      "+-----------+-------------+------------+-------------+---------+\n"
     ]
    },
    {
     "name": "stderr",
     "output_type": "stream",
     "text": [
      "/Library/Frameworks/Python.framework/Versions/3.7/lib/python3.7/site-packages/ipykernel_launcher.py:8: RuntimeWarning: invalid value encountered in sqrt\n",
      "  \n"
     ]
    }
   ],
   "source": [
    "describe_coefs(X_, y_, X_ @ coefs, coefs, 1, q)"
   ]
  },
  {
   "cell_type": "code",
   "execution_count": 253,
   "metadata": {},
   "outputs": [
    {
     "name": "stdout",
     "output_type": "stream",
     "text": [
      "+-----------------------+---------------------+\n",
      "|          Name         |        Value        |\n",
      "+-----------------------+---------------------+\n",
      "|       R-squared       |  0.999893965618921  |\n",
      "|   Adjusted R-squared  |  0.9998886193476061 |\n",
      "|   S.E. of regression  |  6.854123288409397  |\n",
      "|   Sum squared resid   |  1590.1566029109802 |\n",
      "|     Log likelihood    |  -552.4763873904753 |\n",
      "|   Durbin-Watson stat  |  2.1133456875931897 |\n",
      "|   Mean dependent var  | -1167.7271352653847 |\n",
      "|   S.D. dependent var  |  254.23162700793478 |\n",
      "| Akaike info criterion |  4.497819819844425  |\n",
      "|   Schwarz criterion   |  4.666367370719252  |\n",
      "|      F-statistic      |  204886.08193189272 |\n",
      "|   Prob(F-statistic)   |         0.0         |\n",
      "+-----------------------+---------------------+\n"
     ]
    }
   ],
   "source": [
    "describe_model(y_, X_ @ coefs, len(y), X_.shape[1])"
   ]
  },
  {
   "cell_type": "code",
   "execution_count": 58,
   "metadata": {},
   "outputs": [],
   "source": [
    "datasets = ['RTScr', 'RTSeu', 'RTSfn', 'RTSin', 'RTSmm', 'RTSog', 'RTStl']"
   ]
  },
  {
   "cell_type": "code",
   "execution_count": 59,
   "metadata": {},
   "outputs": [],
   "source": [
    "data = pd.DataFrame();"
   ]
  },
  {
   "cell_type": "code",
   "execution_count": 60,
   "metadata": {},
   "outputs": [],
   "source": [
    "for dataset in datasets:\n",
    "    temp = open('Data/' + dataset + '.txt', 'r').read()\n",
    "    temp = np.array(list(map(float, re.findall(r\"[-+]?\\d*\\.\\d+|\\d+\", temp))))\n",
    "    data[dataset] = temp"
   ]
  },
  {
   "cell_type": "code",
   "execution_count": 61,
   "metadata": {},
   "outputs": [],
   "source": [
    "temp = open('Data/' + 'rts1' + '.txt', 'r').read()\n",
    "temp = np.array(list(map(float, re.findall(r\"[-+]?\\d*\\.\\d+|\\d+\", temp))))\n",
    "data['rts1'] = temp"
   ]
  },
  {
   "cell_type": "code",
   "execution_count": 62,
   "metadata": {},
   "outputs": [],
   "source": [
    "corr_martix = data.corr()"
   ]
  },
  {
   "cell_type": "code",
   "execution_count": 63,
   "metadata": {},
   "outputs": [
    {
     "data": {
      "text/html": [
       "<div>\n",
       "<style scoped>\n",
       "    .dataframe tbody tr th:only-of-type {\n",
       "        vertical-align: middle;\n",
       "    }\n",
       "\n",
       "    .dataframe tbody tr th {\n",
       "        vertical-align: top;\n",
       "    }\n",
       "\n",
       "    .dataframe thead th {\n",
       "        text-align: right;\n",
       "    }\n",
       "</style>\n",
       "<table border=\"1\" class=\"dataframe\">\n",
       "  <thead>\n",
       "    <tr style=\"text-align: right;\">\n",
       "      <th></th>\n",
       "      <th>RTScr</th>\n",
       "      <th>RTSeu</th>\n",
       "      <th>RTSfn</th>\n",
       "      <th>RTSin</th>\n",
       "      <th>RTSmm</th>\n",
       "      <th>RTSog</th>\n",
       "      <th>RTStl</th>\n",
       "      <th>rts1</th>\n",
       "    </tr>\n",
       "  </thead>\n",
       "  <tbody>\n",
       "    <tr>\n",
       "      <th>RTScr</th>\n",
       "      <td>1.000000</td>\n",
       "      <td>0.929083</td>\n",
       "      <td>0.960564</td>\n",
       "      <td>0.897707</td>\n",
       "      <td>0.851709</td>\n",
       "      <td>0.682340</td>\n",
       "      <td>0.956929</td>\n",
       "      <td>0.848433</td>\n",
       "    </tr>\n",
       "    <tr>\n",
       "      <th>RTSeu</th>\n",
       "      <td>0.929083</td>\n",
       "      <td>1.000000</td>\n",
       "      <td>0.878301</td>\n",
       "      <td>0.794041</td>\n",
       "      <td>0.697672</td>\n",
       "      <td>0.412473</td>\n",
       "      <td>0.887168</td>\n",
       "      <td>0.638377</td>\n",
       "    </tr>\n",
       "    <tr>\n",
       "      <th>RTSfn</th>\n",
       "      <td>0.960564</td>\n",
       "      <td>0.878301</td>\n",
       "      <td>1.000000</td>\n",
       "      <td>0.828220</td>\n",
       "      <td>0.808881</td>\n",
       "      <td>0.739310</td>\n",
       "      <td>0.925300</td>\n",
       "      <td>0.879438</td>\n",
       "    </tr>\n",
       "    <tr>\n",
       "      <th>RTSin</th>\n",
       "      <td>0.897707</td>\n",
       "      <td>0.794041</td>\n",
       "      <td>0.828220</td>\n",
       "      <td>1.000000</td>\n",
       "      <td>0.944448</td>\n",
       "      <td>0.726153</td>\n",
       "      <td>0.886036</td>\n",
       "      <td>0.859188</td>\n",
       "    </tr>\n",
       "    <tr>\n",
       "      <th>RTSmm</th>\n",
       "      <td>0.851709</td>\n",
       "      <td>0.697672</td>\n",
       "      <td>0.808881</td>\n",
       "      <td>0.944448</td>\n",
       "      <td>1.000000</td>\n",
       "      <td>0.841226</td>\n",
       "      <td>0.798230</td>\n",
       "      <td>0.928940</td>\n",
       "    </tr>\n",
       "    <tr>\n",
       "      <th>RTSog</th>\n",
       "      <td>0.682340</td>\n",
       "      <td>0.412473</td>\n",
       "      <td>0.739310</td>\n",
       "      <td>0.726153</td>\n",
       "      <td>0.841226</td>\n",
       "      <td>1.000000</td>\n",
       "      <td>0.667557</td>\n",
       "      <td>0.961389</td>\n",
       "    </tr>\n",
       "    <tr>\n",
       "      <th>RTStl</th>\n",
       "      <td>0.956929</td>\n",
       "      <td>0.887168</td>\n",
       "      <td>0.925300</td>\n",
       "      <td>0.886036</td>\n",
       "      <td>0.798230</td>\n",
       "      <td>0.667557</td>\n",
       "      <td>1.000000</td>\n",
       "      <td>0.822547</td>\n",
       "    </tr>\n",
       "    <tr>\n",
       "      <th>rts1</th>\n",
       "      <td>0.848433</td>\n",
       "      <td>0.638377</td>\n",
       "      <td>0.879438</td>\n",
       "      <td>0.859188</td>\n",
       "      <td>0.928940</td>\n",
       "      <td>0.961389</td>\n",
       "      <td>0.822547</td>\n",
       "      <td>1.000000</td>\n",
       "    </tr>\n",
       "  </tbody>\n",
       "</table>\n",
       "</div>"
      ],
      "text/plain": [
       "          RTScr     RTSeu     RTSfn     RTSin     RTSmm     RTSog     RTStl  \\\n",
       "RTScr  1.000000  0.929083  0.960564  0.897707  0.851709  0.682340  0.956929   \n",
       "RTSeu  0.929083  1.000000  0.878301  0.794041  0.697672  0.412473  0.887168   \n",
       "RTSfn  0.960564  0.878301  1.000000  0.828220  0.808881  0.739310  0.925300   \n",
       "RTSin  0.897707  0.794041  0.828220  1.000000  0.944448  0.726153  0.886036   \n",
       "RTSmm  0.851709  0.697672  0.808881  0.944448  1.000000  0.841226  0.798230   \n",
       "RTSog  0.682340  0.412473  0.739310  0.726153  0.841226  1.000000  0.667557   \n",
       "RTStl  0.956929  0.887168  0.925300  0.886036  0.798230  0.667557  1.000000   \n",
       "rts1   0.848433  0.638377  0.879438  0.859188  0.928940  0.961389  0.822547   \n",
       "\n",
       "           rts1  \n",
       "RTScr  0.848433  \n",
       "RTSeu  0.638377  \n",
       "RTSfn  0.879438  \n",
       "RTSin  0.859188  \n",
       "RTSmm  0.928940  \n",
       "RTSog  0.961389  \n",
       "RTStl  0.822547  \n",
       "rts1   1.000000  "
      ]
     },
     "execution_count": 63,
     "metadata": {},
     "output_type": "execute_result"
    }
   ],
   "source": [
    "corr_martix"
   ]
  },
  {
   "cell_type": "code",
   "execution_count": 64,
   "metadata": {},
   "outputs": [],
   "source": [
    "X = [np.ones(data.shape[0])]"
   ]
  },
  {
   "cell_type": "code",
   "execution_count": 65,
   "metadata": {},
   "outputs": [],
   "source": [
    "for dataset in datasets:\n",
    "    X.append(np.array(data[dataset]))"
   ]
  },
  {
   "cell_type": "code",
   "execution_count": 66,
   "metadata": {},
   "outputs": [],
   "source": [
    "y = data['rts1']"
   ]
  },
  {
   "cell_type": "code",
   "execution_count": 67,
   "metadata": {},
   "outputs": [],
   "source": [
    "X = np.array(X).T"
   ]
  },
  {
   "cell_type": "code",
   "execution_count": 68,
   "metadata": {},
   "outputs": [],
   "source": [
    "coefs = LS(X, y)"
   ]
  },
  {
   "cell_type": "code",
   "execution_count": 69,
   "metadata": {},
   "outputs": [
    {
     "name": "stdout",
     "output_type": "stream",
     "text": [
      "+------+----------------------+\n",
      "| coef |        Value         |\n",
      "+------+----------------------+\n",
      "|  a0  |  -59.26589977271351  |\n",
      "|  a1  | -0.18567906619294128 |\n",
      "|  a2  | 0.007907070106146663 |\n",
      "|  a3  |  0.782037895850106   |\n",
      "|  a4  | -0.11340168455664079 |\n",
      "|  a5  |  1.249311344510304   |\n",
      "|  a6  |  4.137006460659119   |\n",
      "|  a7  |  0.6522650144380755  |\n",
      "+------+----------------------+\n",
      "y(k) = -59.27 - 0.19*y(k - 1) + 0.01*y(k - 2) + 0.78*y(k - 3) - 0.11*y(k - 4) + 1.25*y(k - 5) + 4.14*y(k - 6) + 0.65*y(k - 7) + ma(k)\n",
      "+--------------------+--------------------+\n",
      "|        Name        |       Value        |\n",
      "+--------------------+--------------------+\n",
      "|     R-squared      | 0.9992758712034502 |\n",
      "| Sum squared resid  | 10773.325325558326 |\n",
      "|       Akaike       | 7.030809637237396  |\n",
      "| Durbin-Watson stat |        0.0         |\n",
      "+--------------------+--------------------+\n"
     ]
    }
   ],
   "source": [
    "print_coefs_own(coefs, 7, 0)\n",
    "print_char(y, X @ coefs, 8)"
   ]
  },
  {
   "cell_type": "code",
   "execution_count": 70,
   "metadata": {},
   "outputs": [
    {
     "name": "stdout",
     "output_type": "stream",
     "text": [
      "+-----------+-------------+------------+-------------+---------+\n",
      "|  Variable | Coefficient | Std. Error | t-Statistic |  Prob.  |\n",
      "+-----------+-------------+------------+-------------+---------+\n",
      "| Intercept |   -59.2659  |  12.02437  |   -4.92881  |   0.0   |\n",
      "|     a1    |   -0.18568  |   0.1263   |   -1.47019  | 0.07168 |\n",
      "|     a2    |   0.00791   |  0.05626   |   0.14055   |  0.4442 |\n",
      "|     a3    |   0.78204   |  0.03802   |   20.56968  |   0.0   |\n",
      "|     a4    |   -0.1134   |   0.0557   |   -2.0359   | 0.02166 |\n",
      "|     a5    |   1.24931   |  0.06141   |   20.34322  |   0.0   |\n",
      "|     a6    |   4.13701   |  0.07235   |   57.17853  |   0.0   |\n",
      "|     a7    |   0.65227   |   0.0911   |   7.15985   |   0.0   |\n",
      "+-----------+-------------+------------+-------------+---------+\n"
     ]
    },
    {
     "name": "stderr",
     "output_type": "stream",
     "text": [
      "/Library/Frameworks/Python.framework/Versions/3.7/lib/python3.7/site-packages/ipykernel_launcher.py:8: RuntimeWarning: invalid value encountered in sqrt\n",
      "  \n"
     ]
    }
   ],
   "source": [
    "describe_coefs(X, y, X @ coefs, coefs, 7, 0)"
   ]
  },
  {
   "cell_type": "code",
   "execution_count": 392,
   "metadata": {},
   "outputs": [
    {
     "name": "stdout",
     "output_type": "stream",
     "text": [
      "+-----------------------+-------------------------+\n",
      "|          Name         |          Value          |\n",
      "+-----------------------+-------------------------+\n",
      "|       R-squared       |    0.9992758712034502   |\n",
      "|   Adjusted R-squared  |    0.9992415929172229   |\n",
      "|   S.E. of regression  |    60.52429958178835    |\n",
      "|   Sum squared resid   |    10773.325325558326   |\n",
      "|     Log likelihood    |    -617.7420577141282   |\n",
      "|   Durbin-Watson stat  |           0.0           |\n",
      "|   Mean dependent var  |    2043.5373033714825   |\n",
      "|   S.D. dependent var  |    289.0012208342786    |\n",
      "| Akaike info criterion |    7.030809637237396    |\n",
      "|   Schwarz criterion   |    7.1738111451156925   |\n",
      "|      F-statistic      |    33513.55230766007    |\n",
      "|   Prob(F-statistic)   | 2.5564256209161355e-263 |\n",
      "+-----------------------+-------------------------+\n"
     ]
    }
   ],
   "source": [
    "describe_model(y, X @ coefs, len(y), X.shape[1])"
   ]
  },
  {
   "cell_type": "markdown",
   "metadata": {},
   "source": [
    "## Искусство это взрыв! (творческая часть)"
   ]
  },
  {
   "cell_type": "code",
   "execution_count": 454,
   "metadata": {},
   "outputs": [],
   "source": [
    "def PCF(y, x, s = 12):\n",
    "    t = PrettyTable()\n",
    "    t.field_names = [\"#\", \"AC\", \"PAC\"]\n",
    "    r = [0]\n",
    "    for i in range(1, s + 1):\n",
    "        sigma1 = np.mean((y[i:] - y[i:].mean()) ** 2)\n",
    "        sigma2 = np.mean((x[:-i] - x[:-i].mean()) ** 2)\n",
    "        m1 = y[i:].mean()\n",
    "        m2 = x[:-i].mean()\n",
    "        r.append(np.mean((y[i:] - m1) * (x[:-i] - m2)) / np.sqrt(sigma1 * sigma2))\n",
    "    F = [[], [0, r[1]]]\n",
    "    for k in range(1, s + 1):\n",
    "        F.append([0])\n",
    "        temp = r[k]\n",
    "        for j in range(1, k):\n",
    "            temp -= F[k - 1][j] * r[k - j]\n",
    "        F_k = temp\n",
    "        temp = 1\n",
    "        for j in range(1, k):\n",
    "            temp -= F[k - 1][j] * r[j]\n",
    "        F_k /= temp\n",
    "        for j in range(1, k):\n",
    "            F[k].append(F[k - 1][j] - F_k * F[k - 1][k - j])\n",
    "        F[k].append(F_k)\n",
    "    for i in range(1, s + 1):\n",
    "        t.add_row([i, r[i], F[i][i]])\n",
    "    print(t)"
   ]
  },
  {
   "cell_type": "code",
   "execution_count": 455,
   "metadata": {},
   "outputs": [],
   "source": [
    "datasets = ['RTScr', 'RTSeu', 'RTSfn', 'RTSin', 'RTSmm', 'RTSog', 'RTStl']\n",
    "data = pd.DataFrame()\n",
    "for dataset in datasets:\n",
    "    temp = open('Data/' + dataset + '.txt', 'r').read()\n",
    "    temp = np.array(list(map(float, re.findall(r\"[-+]?\\d*\\.\\d+|\\d+\", temp))))\n",
    "    data[dataset] = temp"
   ]
  },
  {
   "cell_type": "code",
   "execution_count": 456,
   "metadata": {},
   "outputs": [],
   "source": [
    "temp = open('Data/' + 'rts1' + '.txt', 'r').read()\n",
    "temp = np.array(list(map(float, re.findall(r\"[-+]?\\d*\\.\\d+|\\d+\", temp))))\n",
    "data['rts1'] = temp"
   ]
  },
  {
   "cell_type": "code",
   "execution_count": 457,
   "metadata": {},
   "outputs": [
    {
     "name": "stdout",
     "output_type": "stream",
     "text": [
      "RTScr\n",
      "+----+--------------------+----------------------+\n",
      "| #  |         AC         |         PAC          |\n",
      "+----+--------------------+----------------------+\n",
      "| 1  |  0.83236718909945  |   0.83236718909945   |\n",
      "| 2  | 0.8147470836038608 |  0.3968941796208944  |\n",
      "| 3  | 0.7977268838450214 | 0.22551188465668656  |\n",
      "| 4  | 0.7809733385865276 | 0.13463599794143144  |\n",
      "| 5  | 0.7638051883193337 | 0.07868738631566911  |\n",
      "| 6  | 0.7469403013999965 | 0.04589551549998157  |\n",
      "| 7  | 0.7308865917037936 | 0.02860043628741469  |\n",
      "| 8  | 0.7126541217670407 | 0.007278371631564438 |\n",
      "| 9  | 0.698721069892005  | 0.014331635583663179 |\n",
      "| 10 | 0.6876310537269482 | 0.025609245696473822 |\n",
      "| 11 | 0.6794990460390008 | 0.03778312903111007  |\n",
      "| 12 | 0.6670307066595718 |  0.0184361143787454  |\n",
      "+----+--------------------+----------------------+\n",
      "RTSeu\n",
      "+----+---------------------+----------------------+\n",
      "| #  |          AC         |         PAC          |\n",
      "+----+---------------------+----------------------+\n",
      "| 1  |  0.6178806101913757 |  0.6178806101913757  |\n",
      "| 2  |  0.5949843849772575 |  0.3448719091862486  |\n",
      "| 3  |  0.5711300665209672 | 0.21515948976467358  |\n",
      "| 4  |  0.5466893481957624 | 0.13776126722760637  |\n",
      "| 5  |  0.5234678194239367 | 0.09018628436055605  |\n",
      "| 6  |  0.5025048154985682 | 0.062036868881090584 |\n",
      "| 7  |  0.4834305507412115 | 0.044933788826086854 |\n",
      "| 8  |  0.4672580869513675 | 0.03681215322377413  |\n",
      "| 9  | 0.46003147733046174 | 0.046093766309189446 |\n",
      "| 10 |  0.4579291480650134 | 0.05639131210092836  |\n",
      "| 11 |  0.4604166617962214 | 0.06600161925871462  |\n",
      "| 12 | 0.45902962720522106 | 0.05844729484980616  |\n",
      "+----+---------------------+----------------------+\n",
      "RTSfn\n",
      "+----+--------------------+-----------------------+\n",
      "| #  |         AC         |          PAC          |\n",
      "+----+--------------------+-----------------------+\n",
      "| 1  | 0.8599030393134818 |   0.8599030393134818  |\n",
      "| 2  | 0.8396436219103592 |   0.3845862140817409  |\n",
      "| 3  | 0.820817539566037  |  0.20616608007092307  |\n",
      "| 4  | 0.7992770220303275 |  0.10063434473126881  |\n",
      "| 5  | 0.7760664168243315 |  0.038283137705425324 |\n",
      "| 6  | 0.7543178577387795 |  0.015452228847415851 |\n",
      "| 7  | 0.7339251592242948 |  0.009305776861185062 |\n",
      "| 8  | 0.7130117169165928 | 0.0009622017032601321 |\n",
      "| 9  | 0.697259066474152  |  0.020177435439036277 |\n",
      "| 10 | 0.681006612828607  |  0.017842943885123762 |\n",
      "| 11 | 0.6689085029963034 |  0.03135061692971208  |\n",
      "| 12 | 0.6517797919696956 |  0.003550994691318766 |\n",
      "+----+--------------------+-----------------------+\n",
      "RTSin\n",
      "+----+--------------------+---------------------+\n",
      "| #  |         AC         |         PAC         |\n",
      "+----+--------------------+---------------------+\n",
      "| 1  | 0.8603465774451843 |  0.8603465774451843 |\n",
      "| 2  | 0.862691300851435  | 0.47149072969925016 |\n",
      "| 3  | 0.8661168877884565 | 0.33756617886816426 |\n",
      "| 4  | 0.8716539260660285 | 0.28443694707559525 |\n",
      "| 5  | 0.8766157358966582 |  0.2565059674038795 |\n",
      "| 6  | 0.879470685484306  | 0.23376786318444784 |\n",
      "| 7  | 0.8813825123673872 | 0.21885900478127268 |\n",
      "| 8  | 0.8833255481395451 |  0.214458352427473  |\n",
      "| 9  | 0.8863518034478296 |  0.2272086323847689 |\n",
      "| 10 | 0.8912854534499545 | 0.26870959156232743 |\n",
      "| 11 | 0.8949901563400183 |  0.3319119502354164 |\n",
      "| 12 | 0.8966368661888612 |  0.4416573773321134 |\n",
      "+----+--------------------+---------------------+\n",
      "RTSmm\n",
      "+----+--------------------+-----------------------+\n",
      "| #  |         AC         |          PAC          |\n",
      "+----+--------------------+-----------------------+\n",
      "| 1  | 0.927149579325036  |   0.927149579325036   |\n",
      "| 2  | 0.9243039554528848 |   0.4608300270533076  |\n",
      "| 3  | 0.922154786720093  |   0.2970272718187071  |\n",
      "| 4  | 0.9217957059403955 |  0.22761113690521356  |\n",
      "| 5  | 0.923609854859366  |  0.20533913711542817  |\n",
      "| 6  | 0.9213616078486417 |  0.14371569092111894  |\n",
      "| 7  | 0.9170806389998098 |   0.0802700123681096  |\n",
      "| 8  | 0.9126754668910074 |  0.03584208484813306  |\n",
      "| 9  | 0.9066142434934262 | -0.014685004355242549 |\n",
      "| 10 | 0.9005810659936647 |  -0.04845636456415533 |\n",
      "| 11 | 0.8938326310900125 |  -0.07561176385041558 |\n",
      "| 12 | 0.8840367950793865 |  -0.12198793164063346 |\n",
      "+----+--------------------+-----------------------+\n",
      "RTSog\n",
      "+----+--------------------+-----------------------+\n",
      "| #  |         AC         |          PAC          |\n",
      "+----+--------------------+-----------------------+\n",
      "| 1  | 0.9458298599950327 |   0.9458298599950327  |\n",
      "| 2  | 0.9250989967623006 |   0.2894039106598519  |\n",
      "| 3  | 0.9044166262285992 |  0.09244328801161603  |\n",
      "| 4  | 0.8829559334838748 |  0.016771257278465533 |\n",
      "| 5  | 0.8632405646098434 |  0.013823511587754187 |\n",
      "| 6  | 0.8383664355940943 |  -0.05097151960138366 |\n",
      "| 7  | 0.812737770360997  |  -0.05067937258961306 |\n",
      "| 8  | 0.7866516067596663 | -0.040125245085760666 |\n",
      "| 9  | 0.762102466242172  | -0.011214783074901565 |\n",
      "| 10 | 0.7409721691115607 |  0.02637271454629747  |\n",
      "| 11 | 0.7195996117737972 |  0.014608657706744676 |\n",
      "| 12 | 0.6935449206140859 | -0.046312915772749895 |\n",
      "+----+--------------------+-----------------------+\n",
      "RTStl\n",
      "+----+--------------------+----------------------+\n",
      "| #  |         AC         |         PAC          |\n",
      "+----+--------------------+----------------------+\n",
      "| 1  | 0.8027933719024869 |  0.8027933719024869  |\n",
      "| 2  | 0.7815814227066334 | 0.38564115706063007  |\n",
      "| 3  | 0.7627613117135151 | 0.22366672402071397  |\n",
      "| 4  |  0.74313049081288  | 0.13208897669851757  |\n",
      "| 5  | 0.7237893185639911 | 0.07864926464092287  |\n",
      "| 6  | 0.705010644936548  |  0.0472846947646186  |\n",
      "| 7  | 0.6880115408524373 | 0.03309564916795955  |\n",
      "| 8  | 0.6708061898569437 | 0.020639421797970254 |\n",
      "| 9  | 0.6602555879732613 | 0.03516581387348986  |\n",
      "| 10 | 0.6531346554426234 | 0.04732052918904712  |\n",
      "| 11 | 0.6505718183350808 | 0.06180533553220309  |\n",
      "| 12 | 0.6409495982803666 | 0.034273104561556314 |\n",
      "+----+--------------------+----------------------+\n"
     ]
    }
   ],
   "source": [
    "for dataset in datasets:\n",
    "    print(dataset)\n",
    "    PCF(np.array(data['rts1']), np.array(data[dataset]))"
   ]
  },
  {
   "cell_type": "code",
   "execution_count": 458,
   "metadata": {},
   "outputs": [],
   "source": [
    "orders = [3, 3, 3, 12, 5, 2, 3]"
   ]
  },
  {
   "cell_type": "code",
   "execution_count": 502,
   "metadata": {},
   "outputs": [
    {
     "data": {
      "text/plain": [
       "31"
      ]
     },
     "execution_count": 502,
     "metadata": {},
     "output_type": "execute_result"
    }
   ],
   "source": [
    "sum(orders)"
   ]
  },
  {
   "cell_type": "code",
   "execution_count": 459,
   "metadata": {},
   "outputs": [
    {
     "name": "stdout",
     "output_type": "stream",
     "text": [
      "+----+--------------------+----------------------+\n",
      "| #  |         AC         |         PAC          |\n",
      "+----+--------------------+----------------------+\n",
      "| 1  | 0.9581272837420327 |  0.9581272837420327  |\n",
      "| 2  | 0.8882927466260431 |  -0.362414699361081  |\n",
      "| 3  | 0.8182060270813329 | 0.08280582907252257  |\n",
      "| 4  | 0.7563500347563249 | 0.03316445489652662  |\n",
      "| 5  | 0.7113684268302755 | 0.13651315333822409  |\n",
      "| 6  | 0.6760401492820601 | -0.02411201602156806 |\n",
      "| 7  | 0.6375305903200653 | -0.09240089062525238 |\n",
      "| 8  | 0.6028254998248939 | 0.10430087117699804  |\n",
      "| 9  | 0.5744360251983387 |  0.0391810383478796  |\n",
      "| 10 | 0.5548016888604042 | 0.07439783217190306  |\n",
      "| 11 | 0.5310596773964743 | -0.1631545975429465  |\n",
      "| 12 | 0.5128905224537798 |  0.178841061747245   |\n",
      "+----+--------------------+----------------------+\n"
     ]
    }
   ],
   "source": [
    "calc_corr(data['rts1'])"
   ]
  },
  {
   "cell_type": "code",
   "execution_count": 543,
   "metadata": {
    "scrolled": true
   },
   "outputs": [
    {
     "name": "stdout",
     "output_type": "stream",
     "text": [
      "+----+---------------------+-----------------------+\n",
      "| #  |          AC         |          PAC          |\n",
      "+----+---------------------+-----------------------+\n",
      "| 1  |  0.9059474093250302 |   0.9059474093250302  |\n",
      "| 2  |  0.8133398997861192 |  -0.04128549551405522 |\n",
      "| 3  |  0.7218964703251192 |  -0.04450956118434974 |\n",
      "| 4  |  0.6312744600810903 | -0.048421660938388435 |\n",
      "| 5  |  0.5419679689762515 |  -0.0480797391453595  |\n",
      "| 6  | 0.45316127642193427 |  -0.05498254015232495 |\n",
      "| 7  | 0.36482309025215964 | -0.058364437663859785 |\n",
      "| 8  | 0.27784562822231834 |  -0.05693743174550259 |\n",
      "| 9  | 0.19145913712343948 |  -0.06459977993737097 |\n",
      "| 10 | 0.19242851419617543 |   0.4258283650825356  |\n",
      "| 11 |  0.1911365314157423 |  -0.03231030833878832 |\n",
      "| 12 | 0.18914138559542007 | -0.023376098735896324 |\n",
      "+----+---------------------+-----------------------+\n"
     ]
    }
   ],
   "source": [
    "y = data['rts1']\n",
    "N = 10\n",
    "movav_ = movav_exp(y, N)\n",
    "calc_corr(movav_)"
   ]
  },
  {
   "cell_type": "code",
   "execution_count": 544,
   "metadata": {},
   "outputs": [],
   "source": [
    "p = 1\n",
    "q = 10"
   ]
  },
  {
   "cell_type": "code",
   "execution_count": 545,
   "metadata": {},
   "outputs": [],
   "source": [
    "L = len(y)\n",
    "n = max(max(p, q+N-1), max(orders))\n",
    "X = [np.ones(L - n)]\n",
    "for dataset in datasets:\n",
    "    X.append(np.array(data[dataset])[n:])\n",
    "for i in range(1, q + 1):\n",
    "    X.append(movav_[n - i:L - i])\n",
    "for order, dataset in zip(orders, datasets):\n",
    "    for j in range(1, order + 1):\n",
    "        X.append(np.array(data[dataset])[n - j:L-j])\n",
    "y1 = (y - movav_)[n:]\n",
    "coefs = LS(np.array(X).T, y1)\n"
   ]
  },
  {
   "cell_type": "code",
   "execution_count": 546,
   "metadata": {},
   "outputs": [],
   "source": [
    "X.append(movav_[n:])\n",
    "coefs.append(1)"
   ]
  },
  {
   "cell_type": "code",
   "execution_count": 547,
   "metadata": {},
   "outputs": [],
   "source": [
    "X = np.array(X).T\n",
    "coefs = np.array(coefs)"
   ]
  },
  {
   "cell_type": "code",
   "execution_count": 548,
   "metadata": {},
   "outputs": [],
   "source": [
    "y = y[n:]"
   ]
  },
  {
   "cell_type": "code",
   "execution_count": 549,
   "metadata": {
    "scrolled": true
   },
   "outputs": [
    {
     "name": "stdout",
     "output_type": "stream",
     "text": [
      "+-----------------------+------------------------+\n",
      "|          Name         |         Value          |\n",
      "+-----------------------+------------------------+\n",
      "|       R-squared       |   0.9999398249008261   |\n",
      "|   Adjusted R-squared  |   0.999911966058616    |\n",
      "|   S.E. of regression  |   5.435303088248277    |\n",
      "|   Sum squared resid   |   864.2131910314761    |\n",
      "|     Log likelihood    |   -360.1979919390582   |\n",
      "|   Durbin-Watson stat  |          0.0           |\n",
      "|   Mean dependent var  |   2036.8802466430886   |\n",
      "|   S.D. dependent var  |   300.5350158464199    |\n",
      "| Akaike info criterion |   5.159723169044758    |\n",
      "|   Schwarz criterion   |   6.124787383579421    |\n",
      "|      F-statistic      |   36964.72407293593    |\n",
      "|   Prob(F-statistic)   | 4.997736350812646e-211 |\n",
      "+-----------------------+------------------------+\n"
     ]
    }
   ],
   "source": [
    "describe_model(y, X @ coefs, len(y), X.shape[1])"
   ]
  },
  {
   "cell_type": "code",
   "execution_count": 550,
   "metadata": {},
   "outputs": [],
   "source": [
    "table = PrettyTable()\n",
    "N, k = X.shape\n",
    "res = y - X @ coefs\n",
    "RSS = res.T @ res\n",
    "sigma = RSS / (N - k)\n",
    "corr = np.linalg.inv(X.T @ X) * sigma\n"
   ]
  },
  {
   "cell_type": "code",
   "execution_count": 551,
   "metadata": {},
   "outputs": [
    {
     "data": {
      "text/plain": [
       "864.2131910314761"
      ]
     },
     "execution_count": 551,
     "metadata": {},
     "output_type": "execute_result"
    }
   ],
   "source": [
    "rss(y, X @ coefs)"
   ]
  },
  {
   "cell_type": "code",
   "execution_count": 552,
   "metadata": {},
   "outputs": [
    {
     "data": {
      "text/plain": [
       "(159, 50)"
      ]
     },
     "execution_count": 552,
     "metadata": {},
     "output_type": "execute_result"
    }
   ],
   "source": [
    "X.shape"
   ]
  },
  {
   "cell_type": "code",
   "execution_count": 553,
   "metadata": {},
   "outputs": [],
   "source": [
    "corr = np.diagonal(corr)"
   ]
  },
  {
   "cell_type": "code",
   "execution_count": 554,
   "metadata": {},
   "outputs": [],
   "source": [
    "coefs = np.array([round(x, 5) for x in coefs])"
   ]
  },
  {
   "cell_type": "code",
   "execution_count": 555,
   "metadata": {},
   "outputs": [
    {
     "data": {
      "text/plain": [
       "array([-3.71025e+00,  7.48200e-02,  8.93800e-02,  1.70800e-02,\n",
       "       -3.19000e-03,  3.49670e-01,  8.29760e-01, -3.99000e-02,\n",
       "       -8.48370e-01,  2.26890e-01, -1.59940e-01,  2.45600e-02,\n",
       "       -2.36300e-02, -2.93500e-02,  5.13600e-02, -4.66500e-02,\n",
       "        1.04890e-01, -4.88300e-02,  3.16600e-02, -5.18800e-02,\n",
       "       -5.94700e-02, -1.30020e-01,  1.71600e-01, -1.07650e-01,\n",
       "        1.33410e-01, -1.70680e-01,  3.82000e-03,  1.26300e-02,\n",
       "       -2.66100e-02,  1.16550e-01, -2.20170e-01,  1.69580e-01,\n",
       "       -9.23300e-02, -3.05200e-02, -2.42300e-02, -2.15010e-01,\n",
       "        5.37420e-01, -1.53860e-01, -6.36100e-02, -1.58640e-01,\n",
       "       -1.24630e-01, -6.96000e-03, -1.43590e-01,  1.50700e-01,\n",
       "        3.27000e-02, -7.49150e-01,  3.09840e-01, -3.09490e-01,\n",
       "        2.46500e-02,  1.00000e+00])"
      ]
     },
     "execution_count": 555,
     "metadata": {},
     "output_type": "execute_result"
    }
   ],
   "source": [
    "coefs"
   ]
  },
  {
   "cell_type": "code",
   "execution_count": 556,
   "metadata": {},
   "outputs": [],
   "source": [
    "corr = np.array([round(x, 5) for x in corr])"
   ]
  },
  {
   "cell_type": "code",
   "execution_count": 557,
   "metadata": {
    "scrolled": true
   },
   "outputs": [
    {
     "data": {
      "text/plain": [
       "array([6.750538e+01, 1.654000e-02, 5.870000e-03, 3.840000e-03,\n",
       "       8.260000e-03, 7.300000e-03, 5.385000e-02, 1.769000e-02,\n",
       "       1.261000e-02, 1.076000e-02, 3.170000e-03, 1.020000e-03,\n",
       "       9.400000e-04, 6.000000e-04, 6.100000e-04, 6.400000e-04,\n",
       "       4.900000e-04, 1.000000e-04, 2.632000e-02, 2.375000e-02,\n",
       "       1.550000e-02, 1.346000e-02, 1.371000e-02, 5.620000e-03,\n",
       "       6.730000e-03, 6.160000e-03, 2.640000e-03, 1.658000e-02,\n",
       "       1.648000e-02, 1.713000e-02, 1.766000e-02, 1.718000e-02,\n",
       "       1.731000e-02, 1.618000e-02, 1.692000e-02, 1.736000e-02,\n",
       "       1.395000e-02, 1.559000e-02, 6.690000e-03, 1.584000e-02,\n",
       "       1.635000e-02, 1.491000e-02, 1.355000e-02, 6.550000e-03,\n",
       "       8.131000e-02, 4.483000e-02, 4.290000e-02, 5.045000e-02,\n",
       "       2.494000e-02, 3.710000e-03])"
      ]
     },
     "execution_count": 557,
     "metadata": {},
     "output_type": "execute_result"
    }
   ],
   "source": [
    "corr"
   ]
  },
  {
   "cell_type": "code",
   "execution_count": 563,
   "metadata": {},
   "outputs": [],
   "source": [
    "equation = \"rts1(k) = \""
   ]
  },
  {
   "cell_type": "code",
   "execution_count": 564,
   "metadata": {},
   "outputs": [
    {
     "name": "stdout",
     "output_type": "stream",
     "text": [
      "+------------+-------------+----------------------+-----------------------+---------+\n",
      "|  Variable  | Coefficient |      Std. Error      |      t-Statistic      |  Prob.  |\n",
      "+------------+-------------+----------------------+-----------------------+---------+\n",
      "| Intercept  |   -3.71025  |       67.50538       |        -0.05496       | 0.47813 |\n",
      "|   RTScr    |   0.07482   |  0.1286079313261822  |   0.5817681633509646  | 0.28096 |\n",
      "|   RTSeu    |   0.08938   | 0.07661592523751182  |   1.166598193820921   | 0.12296 |\n",
      "|   RTSfn    |   0.01708   | 0.06196773353931867  |   0.2756273148050945  | 0.39168 |\n",
      "|   RTSin    |   -0.00319  | 0.09088454214001411  |  -0.03509947813881901 | 0.48603 |\n",
      "|   RTSmm    |   0.34967   | 0.08544003745317531  |   4.092577794007097   |  4e-05  |\n",
      "|   RTSog    |   0.82976   | 0.23205602771744585  |   3.5756881997925327  | 0.00026 |\n",
      "|   RTStl    |   -0.0399   | 0.13300375934536587  |  -0.29999152051328987 | 0.38238 |\n",
      "|   ma(-1)   |   0.22689   | 0.10373041983911951  |   2.1873043640611365  | 0.01543 |\n",
      "|   ma(-2)   |   -0.15994  | 0.05630275304103699  |  -2.8407136660515633  | 0.00269 |\n",
      "|   ma(-3)   |   0.02456   | 0.03193743884534263  |   0.7690034294525634  | 0.22178 |\n",
      "|   ma(-4)   |   -0.02363  | 0.030659419433511782 |  -0.7707256183126421  | 0.22127 |\n",
      "|   ma(-5)   |   -0.02935  | 0.02449489742783178  |  -1.1982087325114381  | 0.11672 |\n",
      "|   ma(-6)   |   0.05136   | 0.024698178070456937 |   2.0795056158994565  | 0.01996 |\n",
      "|   ma(-7)   |   -0.04665  | 0.025298221281347035 |  -1.8440031605856861  | 0.03395 |\n",
      "|   ma(-8)   |   0.10489   | 0.022135943621178655 |   4.7384471967865895  |   0.0   |\n",
      "|   ma(-9)   |   -0.04883  |         0.01         |         -4.883        |   0.0   |\n",
      "|  ma(-10)   |   0.03166   | 0.16223439832538597  |  0.19514973597954866  | 0.42282 |\n",
      "| RTScr(-1)  |   0.03166   | 0.16223439832538597  |  0.19514973597954866  | 0.42282 |\n",
      "| RTScr(-2)  |   -0.05188  |  0.1541103500742244  |  -0.3366418931305584  | 0.36852 |\n",
      "| RTScr(-3)  |   -0.05947  | 0.12449899597988733  |  -0.47767453489831607 | 0.31692 |\n",
      "| RTSeu(-1)  |   -0.13002  | 0.11601724009818541  |  -1.1206955094774194  | 0.13244 |\n",
      "| RTSeu(-2)  |    0.1716   | 0.11708970919769167  |   1.4655429685137775  | 0.07283 |\n",
      "| RTSeu(-3)  |   -0.10765  | 0.07496665925596525  |   -1.43597168485848   | 0.07694 |\n",
      "| RTSfn(-1)  |   0.13341   | 0.08203657720797473  |   1.6262258195120223  | 0.05339 |\n",
      "| RTSfn(-2)  |   -0.17068  | 0.07848566748139434  |   -2.174664565864348  | 0.01591 |\n",
      "| RTSfn(-3)  |   0.00382   | 0.05138093031466052  |  0.07434664916742544  | 0.47044 |\n",
      "| RTSin(-1)  |   0.01263   |  0.128763348822559   |  0.09808691770982628  | 0.46102 |\n",
      "| RTSin(-2)  |   -0.02661  | 0.12837445228704972  |  -0.20728423394165002 | 0.41809 |\n",
      "| RTSin(-3)  |   0.11655   |  0.1308816259067712  |   0.8904993286301333  | 0.18758 |\n",
      "| RTSin(-4)  |   -0.22017  |  0.1328909327230417  |  -1.6567721776688618  | 0.05022 |\n",
      "| RTSin(-5)  |   0.16958   | 0.13107249902248755  |   1.2937877988494435  | 0.09924 |\n",
      "| RTSin(-6)  |   -0.09233  | 0.13156747318391426  |  -0.7017691969422764  | 0.24216 |\n",
      "| RTSin(-7)  |   -0.03052  | 0.12720062892926276  |  -0.23993592057608773 | 0.40542 |\n",
      "| RTSin(-8)  |   -0.02423  |  0.1300769003320728  |  -0.1862744264211657  | 0.42629 |\n",
      "| RTSin(-9)  |   -0.21501  | 0.13175735273600483  |  -1.6318633877746773  |  0.0528 |\n",
      "| RTSin(-10) |   0.53742   | 0.11811011811017717  |   4.550160550162825   |  1e-05  |\n",
      "| RTSin(-11) |   -0.15386  | 0.12485992151206887  |  -1.2322609059555432  | 0.11025 |\n",
      "| RTSin(-12) |   -0.06361  | 0.08179242018671412  |  -0.7777004257215075  | 0.21922 |\n",
      "| RTSmm(-1)  |   -0.15864  |  0.1258570617804182  |   -1.260477542982673  | 0.10509 |\n",
      "| RTSmm(-2)  |   -0.12463  | 0.12786711852544422  |  -0.9746837297752975  | 0.16594 |\n",
      "| RTSmm(-3)  |   -0.00696  |  0.1221065108829173  | -0.056999417555003644 | 0.47733 |\n",
      "| RTSmm(-4)  |   -0.14359  | 0.11640446726822816  |  -1.2335437236195483  | 0.11001 |\n",
      "| RTSmm(-5)  |    0.1507   | 0.08093207028119323  |   1.8620554185306595  | 0.03264 |\n",
      "| RTSog(-1)  |    0.0327   | 0.28514908381406384  |  0.11467685451629427  | 0.45446 |\n",
      "| RTSog(-2)  |   -0.74915  | 0.21173096136370798  |  -3.5382165894629005  |  0.0003 |\n",
      "| RTStl(-1)  |   0.30984   |  0.2071231517720798  |   1.495921616434993   | 0.06878 |\n",
      "| RTStl(-2)  |   -0.30949  | 0.22461077445216202  |  -1.3778947192309143  | 0.08553 |\n",
      "| RTStl(-3)  |   0.02465   | 0.15792403236999744  |  0.15608770641220676  | 0.43813 |\n",
      "| Intercept  |   -3.71025  |       67.50538       |        -0.05496       | 0.47813 |\n",
      "|   RTScr    |   0.07482   |  0.1286079313261822  |   0.5817681633509646  | 0.28096 |\n",
      "|   RTSeu    |   0.08938   | 0.07661592523751182  |   1.166598193820921   | 0.12296 |\n",
      "|   RTSfn    |   0.01708   | 0.06196773353931867  |   0.2756273148050945  | 0.39168 |\n",
      "|   RTSin    |   -0.00319  | 0.09088454214001411  |  -0.03509947813881901 | 0.48603 |\n",
      "|   RTSmm    |   0.34967   | 0.08544003745317531  |   4.092577794007097   |  4e-05  |\n",
      "|   RTSog    |   0.82976   | 0.23205602771744585  |   3.5756881997925327  | 0.00026 |\n",
      "|   RTStl    |   -0.0399   | 0.13300375934536587  |  -0.29999152051328987 | 0.38238 |\n",
      "|   ma(-1)   |   0.22689   | 0.10373041983911951  |   2.1873043640611365  | 0.01543 |\n",
      "|   ma(-2)   |   -0.15994  | 0.05630275304103699  |  -2.8407136660515633  | 0.00269 |\n",
      "|   ma(-3)   |   0.02456   | 0.03193743884534263  |   0.7690034294525634  | 0.22178 |\n",
      "|   ma(-4)   |   -0.02363  | 0.030659419433511782 |  -0.7707256183126421  | 0.22127 |\n",
      "|   ma(-5)   |   -0.02935  | 0.02449489742783178  |  -1.1982087325114381  | 0.11672 |\n",
      "|   ma(-6)   |   0.05136   | 0.024698178070456937 |   2.0795056158994565  | 0.01996 |\n",
      "|   ma(-7)   |   -0.04665  | 0.025298221281347035 |  -1.8440031605856861  | 0.03395 |\n",
      "|   ma(-8)   |   0.10489   | 0.022135943621178655 |   4.7384471967865895  |   0.0   |\n",
      "|   ma(-9)   |   -0.04883  |         0.01         |         -4.883        |   0.0   |\n",
      "|  ma(-10)   |   0.03166   | 0.16223439832538597  |  0.19514973597954866  | 0.42282 |\n",
      "| RTScr(-1)  |   0.03166   | 0.16223439832538597  |  0.19514973597954866  | 0.42282 |\n",
      "| RTScr(-2)  |   -0.05188  |  0.1541103500742244  |  -0.3366418931305584  | 0.36852 |\n",
      "| RTScr(-3)  |   -0.05947  | 0.12449899597988733  |  -0.47767453489831607 | 0.31692 |\n",
      "| RTSeu(-1)  |   -0.13002  | 0.11601724009818541  |  -1.1206955094774194  | 0.13244 |\n",
      "| RTSeu(-2)  |    0.1716   | 0.11708970919769167  |   1.4655429685137775  | 0.07283 |\n",
      "| RTSeu(-3)  |   -0.10765  | 0.07496665925596525  |   -1.43597168485848   | 0.07694 |\n",
      "| RTSfn(-1)  |   0.13341   | 0.08203657720797473  |   1.6262258195120223  | 0.05339 |\n",
      "| RTSfn(-2)  |   -0.17068  | 0.07848566748139434  |   -2.174664565864348  | 0.01591 |\n",
      "| RTSfn(-3)  |   0.00382   | 0.05138093031466052  |  0.07434664916742544  | 0.47044 |\n",
      "| RTSin(-1)  |   0.01263   |  0.128763348822559   |  0.09808691770982628  | 0.46102 |\n",
      "| RTSin(-2)  |   -0.02661  | 0.12837445228704972  |  -0.20728423394165002 | 0.41809 |\n",
      "| RTSin(-3)  |   0.11655   |  0.1308816259067712  |   0.8904993286301333  | 0.18758 |\n",
      "| RTSin(-4)  |   -0.22017  |  0.1328909327230417  |  -1.6567721776688618  | 0.05022 |\n",
      "| RTSin(-5)  |   0.16958   | 0.13107249902248755  |   1.2937877988494435  | 0.09924 |\n",
      "| RTSin(-6)  |   -0.09233  | 0.13156747318391426  |  -0.7017691969422764  | 0.24216 |\n",
      "| RTSin(-7)  |   -0.03052  | 0.12720062892926276  |  -0.23993592057608773 | 0.40542 |\n",
      "| RTSin(-8)  |   -0.02423  |  0.1300769003320728  |  -0.1862744264211657  | 0.42629 |\n",
      "| RTSin(-9)  |   -0.21501  | 0.13175735273600483  |  -1.6318633877746773  |  0.0528 |\n",
      "| RTSin(-10) |   0.53742   | 0.11811011811017717  |   4.550160550162825   |  1e-05  |\n",
      "| RTSin(-11) |   -0.15386  | 0.12485992151206887  |  -1.2322609059555432  | 0.11025 |\n",
      "| RTSin(-12) |   -0.06361  | 0.08179242018671412  |  -0.7777004257215075  | 0.21922 |\n",
      "| RTSmm(-1)  |   -0.15864  |  0.1258570617804182  |   -1.260477542982673  | 0.10509 |\n",
      "| RTSmm(-2)  |   -0.12463  | 0.12786711852544422  |  -0.9746837297752975  | 0.16594 |\n",
      "| RTSmm(-3)  |   -0.00696  |  0.1221065108829173  | -0.056999417555003644 | 0.47733 |\n",
      "| RTSmm(-4)  |   -0.14359  | 0.11640446726822816  |  -1.2335437236195483  | 0.11001 |\n",
      "| RTSmm(-5)  |    0.1507   | 0.08093207028119323  |   1.8620554185306595  | 0.03264 |\n",
      "| RTSog(-1)  |    0.0327   | 0.28514908381406384  |  0.11467685451629427  | 0.45446 |\n",
      "| RTSog(-2)  |   -0.74915  | 0.21173096136370798  |  -3.5382165894629005  |  0.0003 |\n",
      "| RTStl(-1)  |   0.30984   |  0.2071231517720798  |   1.495921616434993   | 0.06878 |\n",
      "| RTStl(-2)  |   -0.30949  | 0.22461077445216202  |  -1.3778947192309143  | 0.08553 |\n",
      "| RTStl(-3)  |   0.02465   | 0.15792403236999744  |  0.15608770641220676  | 0.43813 |\n",
      "| Intercept  |   -3.71025  |       67.50538       |        -0.05496       | 0.47813 |\n",
      "|   RTScr    |   0.07482   |  0.1286079313261822  |   0.5817681633509646  | 0.28096 |\n",
      "|   RTSeu    |   0.08938   | 0.07661592523751182  |   1.166598193820921   | 0.12296 |\n",
      "|   RTSfn    |   0.01708   | 0.06196773353931867  |   0.2756273148050945  | 0.39168 |\n",
      "|   RTSin    |   -0.00319  | 0.09088454214001411  |  -0.03509947813881901 | 0.48603 |\n",
      "|   RTSmm    |   0.34967   | 0.08544003745317531  |   4.092577794007097   |  4e-05  |\n",
      "|   RTSog    |   0.82976   | 0.23205602771744585  |   3.5756881997925327  | 0.00026 |\n",
      "|   RTStl    |   -0.0399   | 0.13300375934536587  |  -0.29999152051328987 | 0.38238 |\n",
      "|   ma(-1)   |   0.22689   | 0.10373041983911951  |   2.1873043640611365  | 0.01543 |\n",
      "|   ma(-2)   |   -0.15994  | 0.05630275304103699  |  -2.8407136660515633  | 0.00269 |\n",
      "|   ma(-3)   |   0.02456   | 0.03193743884534263  |   0.7690034294525634  | 0.22178 |\n",
      "|   ma(-4)   |   -0.02363  | 0.030659419433511782 |  -0.7707256183126421  | 0.22127 |\n",
      "|   ma(-5)   |   -0.02935  | 0.02449489742783178  |  -1.1982087325114381  | 0.11672 |\n",
      "|   ma(-6)   |   0.05136   | 0.024698178070456937 |   2.0795056158994565  | 0.01996 |\n",
      "|   ma(-7)   |   -0.04665  | 0.025298221281347035 |  -1.8440031605856861  | 0.03395 |\n",
      "|   ma(-8)   |   0.10489   | 0.022135943621178655 |   4.7384471967865895  |   0.0   |\n",
      "|   ma(-9)   |   -0.04883  |         0.01         |         -4.883        |   0.0   |\n",
      "|  ma(-10)   |   0.03166   | 0.16223439832538597  |  0.19514973597954866  | 0.42282 |\n",
      "| RTScr(-1)  |   0.03166   | 0.16223439832538597  |  0.19514973597954866  | 0.42282 |\n",
      "| RTScr(-2)  |   -0.05188  |  0.1541103500742244  |  -0.3366418931305584  | 0.36852 |\n",
      "| RTScr(-3)  |   -0.05947  | 0.12449899597988733  |  -0.47767453489831607 | 0.31692 |\n",
      "| RTSeu(-1)  |   -0.13002  | 0.11601724009818541  |  -1.1206955094774194  | 0.13244 |\n",
      "| RTSeu(-2)  |    0.1716   | 0.11708970919769167  |   1.4655429685137775  | 0.07283 |\n",
      "| RTSeu(-3)  |   -0.10765  | 0.07496665925596525  |   -1.43597168485848   | 0.07694 |\n",
      "| RTSfn(-1)  |   0.13341   | 0.08203657720797473  |   1.6262258195120223  | 0.05339 |\n",
      "| RTSfn(-2)  |   -0.17068  | 0.07848566748139434  |   -2.174664565864348  | 0.01591 |\n",
      "| RTSfn(-3)  |   0.00382   | 0.05138093031466052  |  0.07434664916742544  | 0.47044 |\n",
      "| RTSin(-1)  |   0.01263   |  0.128763348822559   |  0.09808691770982628  | 0.46102 |\n",
      "| RTSin(-2)  |   -0.02661  | 0.12837445228704972  |  -0.20728423394165002 | 0.41809 |\n",
      "| RTSin(-3)  |   0.11655   |  0.1308816259067712  |   0.8904993286301333  | 0.18758 |\n",
      "| RTSin(-4)  |   -0.22017  |  0.1328909327230417  |  -1.6567721776688618  | 0.05022 |\n",
      "| RTSin(-5)  |   0.16958   | 0.13107249902248755  |   1.2937877988494435  | 0.09924 |\n",
      "| RTSin(-6)  |   -0.09233  | 0.13156747318391426  |  -0.7017691969422764  | 0.24216 |\n",
      "| RTSin(-7)  |   -0.03052  | 0.12720062892926276  |  -0.23993592057608773 | 0.40542 |\n",
      "| RTSin(-8)  |   -0.02423  |  0.1300769003320728  |  -0.1862744264211657  | 0.42629 |\n",
      "| RTSin(-9)  |   -0.21501  | 0.13175735273600483  |  -1.6318633877746773  |  0.0528 |\n",
      "| RTSin(-10) |   0.53742   | 0.11811011811017717  |   4.550160550162825   |  1e-05  |\n",
      "| RTSin(-11) |   -0.15386  | 0.12485992151206887  |  -1.2322609059555432  | 0.11025 |\n",
      "| RTSin(-12) |   -0.06361  | 0.08179242018671412  |  -0.7777004257215075  | 0.21922 |\n",
      "| RTSmm(-1)  |   -0.15864  |  0.1258570617804182  |   -1.260477542982673  | 0.10509 |\n",
      "| RTSmm(-2)  |   -0.12463  | 0.12786711852544422  |  -0.9746837297752975  | 0.16594 |\n",
      "| RTSmm(-3)  |   -0.00696  |  0.1221065108829173  | -0.056999417555003644 | 0.47733 |\n",
      "| RTSmm(-4)  |   -0.14359  | 0.11640446726822816  |  -1.2335437236195483  | 0.11001 |\n",
      "| RTSmm(-5)  |    0.1507   | 0.08093207028119323  |   1.8620554185306595  | 0.03264 |\n",
      "| RTSog(-1)  |    0.0327   | 0.28514908381406384  |  0.11467685451629427  | 0.45446 |\n",
      "| RTSog(-2)  |   -0.74915  | 0.21173096136370798  |  -3.5382165894629005  |  0.0003 |\n",
      "| RTStl(-1)  |   0.30984   |  0.2071231517720798  |   1.495921616434993   | 0.06878 |\n",
      "| RTStl(-2)  |   -0.30949  | 0.22461077445216202  |  -1.3778947192309143  | 0.08553 |\n",
      "| RTStl(-3)  |   0.02465   | 0.15792403236999744  |  0.15608770641220676  | 0.43813 |\n",
      "+------------+-------------+----------------------+-----------------------+---------+\n"
     ]
    }
   ],
   "source": [
    "coef = coefs\n",
    "table.field_names = [\"Variable\", \"Coefficient\", \"Std. Error\", \"t-Statistic\", \"Prob.\"]\n",
    "table.add_row([\"Intercept\", round(coef[0],5), round(corr[0],5),\n",
    "               round(coef[0] / corr[0],5), round(t.sf(abs(coef[0]) / corr[0], N-k),5)])\n",
    "equation += str(coef[0])\n",
    "for j, dataset in enumerate(datasets):\n",
    "    i = j + 1\n",
    "    err = corr[i]**0.5\n",
    "    equation += \" + \" if (coef[i] >=0) else \" - \"\n",
    "    equation += str(abs(coef[i])) + \"*\"\n",
    "    equation += dataset\n",
    "    table.add_row([dataset, coef[i], err, coef[i] / err,\n",
    "                   round(t.sf(abs(coef[i]) / err, N-k),5)])\n",
    "equation += \" + ma(k)\"\n",
    "for j in range(1, q + 1):\n",
    "    i = len(datasets) + j + 1\n",
    "    err = corr[i]**0.5\n",
    "    equation += \" + \" if (coef[i] >=0) else \" - \"\n",
    "    equation += str(abs(coef[i])) + \"*\"\n",
    "    equation += \"ma(k - \" + str(j) + \")\"\n",
    "    table.add_row([\"ma(-\" +str(j) +\")\" , coef[i], err, coef[i] / err,\n",
    "                   round(t.sf(abs(coef[i]) / err, N-k),5)])\n",
    "i = len(datasets) + q + 1\n",
    "for order, dataset in zip(orders, datasets):\n",
    "    for j in range(1, order + 1):\n",
    "        err = corr[i]**0.5\n",
    "        equation += \" + \" if (coef[i] >=0) else \" - \"\n",
    "        equation += str(abs(coef[i])) + \"*\"\n",
    "        equation += dataset + \"(k - \" + str(j) + \")\"\n",
    "        table.add_row([dataset +\"(-\" + str(j) +\")\" , coef[i], err, coef[i] / err,\n",
    "                   round(t.sf(abs(coef[i]) / err, N-k),5)])\n",
    "        i += 1\n",
    "\n",
    "print(table)"
   ]
  },
  {
   "cell_type": "code",
   "execution_count": 565,
   "metadata": {},
   "outputs": [
    {
     "data": {
      "text/plain": [
       "'rts1(k) = -3.71025 + 0.07482*RTScr + 0.08938*RTSeu + 0.01708*RTSfn - 0.00319*RTSin + 0.34967*RTSmm + 0.82976*RTSog - 0.0399*RTStl + ma(k) + 0.22689*ma(k - 1) - 0.15994*ma(k - 2) + 0.02456*ma(k - 3) - 0.02363*ma(k - 4) - 0.02935*ma(k - 5) + 0.05136*ma(k - 6) - 0.04665*ma(k - 7) + 0.10489*ma(k - 8) - 0.04883*ma(k - 9) + 0.03166*ma(k - 10) + 0.03166*RTScr(k - 1) - 0.05188*RTScr(k - 2) - 0.05947*RTScr(k - 3) - 0.13002*RTSeu(k - 1) + 0.1716*RTSeu(k - 2) - 0.10765*RTSeu(k - 3) + 0.13341*RTSfn(k - 1) - 0.17068*RTSfn(k - 2) + 0.00382*RTSfn(k - 3) + 0.01263*RTSin(k - 1) - 0.02661*RTSin(k - 2) + 0.11655*RTSin(k - 3) - 0.22017*RTSin(k - 4) + 0.16958*RTSin(k - 5) - 0.09233*RTSin(k - 6) - 0.03052*RTSin(k - 7) - 0.02423*RTSin(k - 8) - 0.21501*RTSin(k - 9) + 0.53742*RTSin(k - 10) - 0.15386*RTSin(k - 11) - 0.06361*RTSin(k - 12) - 0.15864*RTSmm(k - 1) - 0.12463*RTSmm(k - 2) - 0.00696*RTSmm(k - 3) - 0.14359*RTSmm(k - 4) + 0.1507*RTSmm(k - 5) + 0.0327*RTSog(k - 1) - 0.74915*RTSog(k - 2) + 0.30984*RTStl(k - 1) - 0.30949*RTStl(k - 2) + 0.02465*RTStl(k - 3)'"
      ]
     },
     "execution_count": 565,
     "metadata": {},
     "output_type": "execute_result"
    }
   ],
   "source": [
    "equation"
   ]
  },
  {
   "cell_type": "code",
   "execution_count": null,
   "metadata": {},
   "outputs": [],
   "source": []
  },
  {
   "cell_type": "code",
   "execution_count": null,
   "metadata": {},
   "outputs": [],
   "source": []
  },
  {
   "cell_type": "code",
   "execution_count": null,
   "metadata": {},
   "outputs": [],
   "source": []
  },
  {
   "cell_type": "code",
   "execution_count": null,
   "metadata": {},
   "outputs": [],
   "source": []
  },
  {
   "cell_type": "code",
   "execution_count": null,
   "metadata": {},
   "outputs": [],
   "source": []
  }
 ],
 "metadata": {
  "kernelspec": {
   "display_name": "Python 3",
   "language": "python",
   "name": "python3"
  },
  "language_info": {
   "codemirror_mode": {
    "name": "ipython",
    "version": 3
   },
   "file_extension": ".py",
   "mimetype": "text/x-python",
   "name": "python",
   "nbconvert_exporter": "python",
   "pygments_lexer": "ipython3",
   "version": "3.7.6"
  }
 },
 "nbformat": 4,
 "nbformat_minor": 4
}
