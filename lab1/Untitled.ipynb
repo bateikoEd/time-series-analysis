{
 "cells": [
  {
   "cell_type": "code",
   "execution_count": 2,
   "metadata": {},
   "outputs": [],
   "source": [
    "import numpy as np\n",
    "import matplotlib.pyplot as plt"
   ]
  },
  {
   "cell_type": "markdown",
   "metadata": {},
   "source": [
    "### Generated norm distributed vector 'e'"
   ]
  },
  {
   "cell_type": "code",
   "execution_count": 13,
   "metadata": {
    "scrolled": false
   },
   "outputs": [
    {
     "data": {
      "text/plain": [
       "array([ 0.04388137,  1.23955069,  0.16171555, -0.25848026,  1.06473909,\n",
       "        0.03130247,  1.65944817,  0.93003921,  1.23065142, -0.05733287,\n",
       "        0.7462489 , -0.05635537, -0.70536472, -1.37408238,  0.2049118 ,\n",
       "        1.8581543 , -0.44883954, -0.14595323, -0.14823933,  0.06766581,\n",
       "        0.53524872,  0.28720897,  0.19894946, -0.26184514, -0.08728815,\n",
       "        0.68975839, -0.75047565, -0.99647507,  0.41391317,  0.32361215,\n",
       "        0.85216019,  0.20091995,  0.94675284,  1.10367874,  1.70452088,\n",
       "       -0.78362575, -1.82064658, -2.79930989, -1.65628161, -0.94057728,\n",
       "       -0.23358473,  0.18846478,  1.26487377,  0.3702956 ,  0.19579923,\n",
       "        0.87488213, -1.52312478,  0.89714388,  0.35218536,  0.68699852,\n",
       "       -0.01229067,  1.85650581,  0.14909012,  0.23585811, -0.6837319 ,\n",
       "       -0.19810994,  0.868864  ,  0.68353499,  0.30936919, -0.82899215,\n",
       "       -0.51644206, -0.54560633, -0.25958559,  0.3038064 , -0.52559531,\n",
       "       -0.04642289,  0.14431854,  1.0397942 , -0.13749486, -0.90599295,\n",
       "       -0.23233141, -1.19017243,  0.8295802 , -1.78720292,  0.22792343,\n",
       "        1.45288851, -1.54173583,  1.42369848,  0.06986483,  1.21540287,\n",
       "        0.53889563,  0.95458302,  0.59073934,  2.27883755, -1.12409983,\n",
       "       -2.16318656, -0.16058634,  2.66949138, -0.4411824 , -1.50033863,\n",
       "       -1.33303868, -0.66348244, -0.61095293, -0.47168516,  1.56148964,\n",
       "       -1.54756905, -0.14627463, -1.27038538, -0.57940639,  1.03607708,\n",
       "       -0.93847794,  0.4092836 ,  0.62293273,  0.64772782, -1.15244748,\n",
       "        0.48423451,  0.52598697,  0.7652191 ,  0.88202295, -1.11583884,\n",
       "       -0.43355866, -0.32426604,  0.51641763, -0.00834059, -0.81926381,\n",
       "        0.7754285 ,  0.79400016,  0.34040808,  0.03923488, -0.95475635,\n",
       "        0.9037675 , -0.46374238,  0.23980021, -1.43609957, -1.03901872,\n",
       "        0.36236637, -0.56414831,  0.2397642 ,  0.26126481,  0.52050983,\n",
       "       -0.73204783,  0.69360858,  1.38396352, -1.19223425,  1.14885301,\n",
       "        1.43107462,  0.59696798,  0.90492701,  0.91345636,  0.42378823,\n",
       "        0.61754388,  0.25248581,  0.78887628,  1.37157987,  0.18532959,\n",
       "        0.30778989,  0.26863486,  1.70053225, -0.15626258,  1.08470504])"
      ]
     },
     "execution_count": 13,
     "metadata": {},
     "output_type": "execute_result"
    }
   ],
   "source": [
    "p = 4\n",
    "q = 3\n",
    "n = p + q + 1\n",
    "N = 150\n",
    "eps = np.random.normal(0, 1, size=(N, ))\n",
    "eps"
   ]
  },
  {
   "cell_type": "code",
   "execution_count": null,
   "metadata": {},
   "outputs": [],
   "source": [
    "v = np.random.normal()"
   ]
  },
  {
   "cell_type": "markdown",
   "metadata": {},
   "source": [
    "### Generated 'y'"
   ]
  },
  {
   "cell_type": "code",
   "execution_count": 21,
   "metadata": {},
   "outputs": [],
   "source": [
    "tetta = np.array([0.08, 0.25, -0.25, -0.19, 1, 0.7, 0.2, 0.1])\n",
    "y = np.zeros((N,))\n",
    "\n",
    "X = []\n",
    "y[0] = eps[0]\n",
    "y[1] = eps[1]\n",
    "y[2] = eps[2]\n",
    "\n",
    "for i in range(3, N):\n",
    "    y[i] = tetta[0]  + tetta[1] * y[i - 1] + tetta[2] * y[i - 2] + tetta[3] * y[i - 3] + tetta[4] * eps[i - 1] + tetta[5] * eps[i - 2] + tetta[6] * eps[i - 3]\n",
    "    \n",
    "    X.append([1, y[i - 1], y[i - 2], y[i - 3], eps[i - 1], eps[i - 2], eps[i - 3]])"
   ]
  },
  {
   "cell_type": "code",
   "execution_count": 23,
   "metadata": {},
   "outputs": [
    {
     "data": {
      "text/plain": [
       "array([[ 1.        ,  0.16171555,  1.23955069, ...,  0.16171555,\n",
       "         1.23955069,  0.04388137],\n",
       "       [ 1.        ,  0.16770292,  0.16171555, ..., -0.25848026,\n",
       "         0.16171555,  1.23955069],\n",
       "       [ 1.        , -0.17865579,  0.16770292, ...,  1.06473909,\n",
       "        -0.25848026,  0.16171555],\n",
       "       ...,\n",
       "       [ 1.        ,  0.20706939,  0.65287795, ...,  0.26863486,\n",
       "         0.30778989,  0.18532959],\n",
       "       [ 1.        ,  0.00451515,  0.20706939, ...,  1.70053225,\n",
       "         0.26863486,  0.30778989],\n",
       "       [ 1.        ,  1.18019317,  0.00451515, ..., -0.15626258,\n",
       "         1.70053225,  0.26863486]])"
      ]
     },
     "execution_count": 23,
     "metadata": {},
     "output_type": "execute_result"
    }
   ],
   "source": [
    "X = np.array(X)\n",
    "X"
   ]
  },
  {
   "cell_type": "code",
   "execution_count": 24,
   "metadata": {},
   "outputs": [
    {
     "data": {
      "text/plain": [
       "(147, 7)"
      ]
     },
     "execution_count": 24,
     "metadata": {},
     "output_type": "execute_result"
    }
   ],
   "source": [
    "X.shape"
   ]
  },
  {
   "cell_type": "code",
   "execution_count": 27,
   "metadata": {
    "scrolled": true
   },
   "outputs": [
    {
     "data": {
      "text/plain": [
       "(7, 7)"
      ]
     },
     "execution_count": 27,
     "metadata": {},
     "output_type": "execute_result"
    }
   ],
   "source": [
    "(X.T @ X).shape"
   ]
  },
  {
   "cell_type": "code",
   "execution_count": 32,
   "metadata": {},
   "outputs": [
    {
     "data": {
      "text/plain": [
       "(7, 147)"
      ]
     },
     "execution_count": 32,
     "metadata": {},
     "output_type": "execute_result"
    }
   ],
   "source": [
    "X.T.shape"
   ]
  },
  {
   "cell_type": "code",
   "execution_count": null,
   "metadata": {},
   "outputs": [],
   "source": []
  },
  {
   "cell_type": "code",
   "execution_count": 31,
   "metadata": {},
   "outputs": [
    {
     "ename": "ValueError",
     "evalue": "matmul: Input operand 1 has a mismatch in its core dimension 0, with gufunc signature (n?,k),(k,m?)->(n?,m?) (size 150 is different from 147)",
     "output_type": "error",
     "traceback": [
      "\u001b[0;31m---------------------------------------------------------------------------\u001b[0m",
      "\u001b[0;31mValueError\u001b[0m                                Traceback (most recent call last)",
      "\u001b[0;32m<ipython-input-31-f86e637454f7>\u001b[0m in \u001b[0;36m<module>\u001b[0;34m\u001b[0m\n\u001b[0;32m----> 1\u001b[0;31m \u001b[0mtetta_hat\u001b[0m \u001b[0;34m=\u001b[0m \u001b[0;34m(\u001b[0m\u001b[0;34m(\u001b[0m\u001b[0mnp\u001b[0m\u001b[0;34m.\u001b[0m\u001b[0mlinalg\u001b[0m\u001b[0;34m.\u001b[0m\u001b[0minv\u001b[0m\u001b[0;34m(\u001b[0m\u001b[0mX\u001b[0m\u001b[0;34m.\u001b[0m\u001b[0mT\u001b[0m \u001b[0;34m@\u001b[0m \u001b[0mX\u001b[0m\u001b[0;34m)\u001b[0m\u001b[0;34m)\u001b[0m \u001b[0;34m@\u001b[0m \u001b[0mX\u001b[0m\u001b[0;34m.\u001b[0m\u001b[0mT\u001b[0m\u001b[0;34m)\u001b[0m \u001b[0;34m@\u001b[0m \u001b[0my\u001b[0m\u001b[0;34m\u001b[0m\u001b[0;34m\u001b[0m\u001b[0m\n\u001b[0m",
      "\u001b[0;31mValueError\u001b[0m: matmul: Input operand 1 has a mismatch in its core dimension 0, with gufunc signature (n?,k),(k,m?)->(n?,m?) (size 150 is different from 147)"
     ]
    }
   ],
   "source": [
    "tetta_hat = ((np.linalg.inv(X.T @ X)) @ X.T)"
   ]
  },
  {
   "cell_type": "code",
   "execution_count": null,
   "metadata": {},
   "outputs": [],
   "source": []
  }
 ],
 "metadata": {
  "kernelspec": {
   "display_name": "ml_coursera",
   "language": "python",
   "name": "ml_coursera"
  },
  "language_info": {
   "codemirror_mode": {
    "name": "ipython",
    "version": 3
   },
   "file_extension": ".py",
   "mimetype": "text/x-python",
   "name": "python",
   "nbconvert_exporter": "python",
   "pygments_lexer": "ipython3",
   "version": "3.7.7"
  }
 },
 "nbformat": 4,
 "nbformat_minor": 4
}
